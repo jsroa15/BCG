{
  "nbformat": 4,
  "nbformat_minor": 0,
  "metadata": {
    "colab": {
      "name": "task2.ipynb",
      "provenance": [],
      "collapsed_sections": [],
      "toc_visible": true,
      "mount_file_id": "1Ehc76rcStmcRzDkxQrCa04cfIy0WSbFD",
      "authorship_tag": "ABX9TyMSGve5tMNdNTYA6lqU1R8v",
      "include_colab_link": true
    },
    "kernelspec": {
      "name": "python3",
      "display_name": "Python 3"
    }
  },
  "cells": [
    {
      "cell_type": "markdown",
      "metadata": {
        "id": "view-in-github",
        "colab_type": "text"
      },
      "source": [
        "<a href=\"https://colab.research.google.com/github/jsroa15/BCG/blob/main/task2.ipynb\" target=\"_parent\"><img src=\"https://colab.research.google.com/assets/colab-badge.svg\" alt=\"Open In Colab\"/></a>"
      ]
    },
    {
      "cell_type": "markdown",
      "metadata": {
        "id": "VqJXMNG3Qt6G"
      },
      "source": [
        "# Import Packages"
      ]
    },
    {
      "cell_type": "code",
      "metadata": {
        "id": "J-2sT3Cw9lCc"
      },
      "source": [
        "#Import modules\r\n",
        "\r\n",
        "import pandas as pd\r\n",
        "import numpy as np\r\n",
        "import matplotlib.pyplot as plt\r\n",
        "import seaborn as sns"
      ],
      "execution_count": 3,
      "outputs": []
    },
    {
      "cell_type": "markdown",
      "metadata": {
        "id": "2zqA7nceQ_MF"
      },
      "source": [
        "# Load Data"
      ]
    },
    {
      "cell_type": "code",
      "metadata": {
        "id": "5N8bYVkx9_UD"
      },
      "source": [
        "#Load Data\r\n",
        "\r\n",
        "df_hist=pd.read_csv('/content/drive/MyDrive/Colab Notebooks/BCG/ml_case_training_hist_data.csv')\r\n",
        "df_customer=pd.read_csv('/content/drive/MyDrive/Colab Notebooks/BCG/ml_case_training_data.csv')\r\n",
        "df_churn=pd.read_csv('/content/drive/MyDrive/Colab Notebooks/BCG/ml_case_training_output.csv')"
      ],
      "execution_count": 4,
      "outputs": []
    },
    {
      "cell_type": "markdown",
      "metadata": {
        "id": "agtZ90rc_pLR"
      },
      "source": [
        "We explore the first rows of every dataset to see how"
      ]
    },
    {
      "cell_type": "code",
      "metadata": {
        "colab": {
          "base_uri": "https://localhost:8080/",
          "height": 309
        },
        "id": "Xs5BUUab--EY",
        "outputId": "310576ca-befd-44ef-bfe0-cf315e7d0430"
      },
      "source": [
        "#Exploring customer data\r\n",
        "\r\n",
        "df_customer.head()"
      ],
      "execution_count": 5,
      "outputs": [
        {
          "output_type": "execute_result",
          "data": {
            "text/html": [
              "<div>\n",
              "<style scoped>\n",
              "    .dataframe tbody tr th:only-of-type {\n",
              "        vertical-align: middle;\n",
              "    }\n",
              "\n",
              "    .dataframe tbody tr th {\n",
              "        vertical-align: top;\n",
              "    }\n",
              "\n",
              "    .dataframe thead th {\n",
              "        text-align: right;\n",
              "    }\n",
              "</style>\n",
              "<table border=\"1\" class=\"dataframe\">\n",
              "  <thead>\n",
              "    <tr style=\"text-align: right;\">\n",
              "      <th></th>\n",
              "      <th>id</th>\n",
              "      <th>activity_new</th>\n",
              "      <th>campaign_disc_ele</th>\n",
              "      <th>channel_sales</th>\n",
              "      <th>cons_12m</th>\n",
              "      <th>cons_gas_12m</th>\n",
              "      <th>cons_last_month</th>\n",
              "      <th>date_activ</th>\n",
              "      <th>date_end</th>\n",
              "      <th>date_first_activ</th>\n",
              "      <th>date_modif_prod</th>\n",
              "      <th>date_renewal</th>\n",
              "      <th>forecast_base_bill_ele</th>\n",
              "      <th>forecast_base_bill_year</th>\n",
              "      <th>forecast_bill_12m</th>\n",
              "      <th>forecast_cons</th>\n",
              "      <th>forecast_cons_12m</th>\n",
              "      <th>forecast_cons_year</th>\n",
              "      <th>forecast_discount_energy</th>\n",
              "      <th>forecast_meter_rent_12m</th>\n",
              "      <th>forecast_price_energy_p1</th>\n",
              "      <th>forecast_price_energy_p2</th>\n",
              "      <th>forecast_price_pow_p1</th>\n",
              "      <th>has_gas</th>\n",
              "      <th>imp_cons</th>\n",
              "      <th>margin_gross_pow_ele</th>\n",
              "      <th>margin_net_pow_ele</th>\n",
              "      <th>nb_prod_act</th>\n",
              "      <th>net_margin</th>\n",
              "      <th>num_years_antig</th>\n",
              "      <th>origin_up</th>\n",
              "      <th>pow_max</th>\n",
              "    </tr>\n",
              "  </thead>\n",
              "  <tbody>\n",
              "    <tr>\n",
              "      <th>0</th>\n",
              "      <td>48ada52261e7cf58715202705a0451c9</td>\n",
              "      <td>esoiiifxdlbkcsluxmfuacbdckommixw</td>\n",
              "      <td>NaN</td>\n",
              "      <td>lmkebamcaaclubfxadlmueccxoimlema</td>\n",
              "      <td>309275</td>\n",
              "      <td>0</td>\n",
              "      <td>10025</td>\n",
              "      <td>2012-11-07</td>\n",
              "      <td>2016-11-06</td>\n",
              "      <td>NaN</td>\n",
              "      <td>2012-11-07</td>\n",
              "      <td>2015-11-09</td>\n",
              "      <td>NaN</td>\n",
              "      <td>NaN</td>\n",
              "      <td>NaN</td>\n",
              "      <td>NaN</td>\n",
              "      <td>26520.30</td>\n",
              "      <td>10025</td>\n",
              "      <td>0.0</td>\n",
              "      <td>359.29</td>\n",
              "      <td>0.095919</td>\n",
              "      <td>0.088347</td>\n",
              "      <td>58.995952</td>\n",
              "      <td>f</td>\n",
              "      <td>831.8</td>\n",
              "      <td>-41.76</td>\n",
              "      <td>-41.76</td>\n",
              "      <td>1</td>\n",
              "      <td>1732.36</td>\n",
              "      <td>3</td>\n",
              "      <td>ldkssxwpmemidmecebumciepifcamkci</td>\n",
              "      <td>180.000</td>\n",
              "    </tr>\n",
              "    <tr>\n",
              "      <th>1</th>\n",
              "      <td>24011ae4ebbe3035111d65fa7c15bc57</td>\n",
              "      <td>NaN</td>\n",
              "      <td>NaN</td>\n",
              "      <td>foosdfpfkusacimwkcsosbicdxkicaua</td>\n",
              "      <td>0</td>\n",
              "      <td>54946</td>\n",
              "      <td>0</td>\n",
              "      <td>2013-06-15</td>\n",
              "      <td>2016-06-15</td>\n",
              "      <td>NaN</td>\n",
              "      <td>NaN</td>\n",
              "      <td>2015-06-23</td>\n",
              "      <td>NaN</td>\n",
              "      <td>NaN</td>\n",
              "      <td>NaN</td>\n",
              "      <td>NaN</td>\n",
              "      <td>0.00</td>\n",
              "      <td>0</td>\n",
              "      <td>0.0</td>\n",
              "      <td>1.78</td>\n",
              "      <td>0.114481</td>\n",
              "      <td>0.098142</td>\n",
              "      <td>40.606701</td>\n",
              "      <td>t</td>\n",
              "      <td>0.0</td>\n",
              "      <td>25.44</td>\n",
              "      <td>25.44</td>\n",
              "      <td>2</td>\n",
              "      <td>678.99</td>\n",
              "      <td>3</td>\n",
              "      <td>lxidpiddsbxsbosboudacockeimpuepw</td>\n",
              "      <td>43.648</td>\n",
              "    </tr>\n",
              "    <tr>\n",
              "      <th>2</th>\n",
              "      <td>d29c2c54acc38ff3c0614d0a653813dd</td>\n",
              "      <td>NaN</td>\n",
              "      <td>NaN</td>\n",
              "      <td>NaN</td>\n",
              "      <td>4660</td>\n",
              "      <td>0</td>\n",
              "      <td>0</td>\n",
              "      <td>2009-08-21</td>\n",
              "      <td>2016-08-30</td>\n",
              "      <td>NaN</td>\n",
              "      <td>2009-08-21</td>\n",
              "      <td>2015-08-31</td>\n",
              "      <td>NaN</td>\n",
              "      <td>NaN</td>\n",
              "      <td>NaN</td>\n",
              "      <td>NaN</td>\n",
              "      <td>189.95</td>\n",
              "      <td>0</td>\n",
              "      <td>0.0</td>\n",
              "      <td>16.27</td>\n",
              "      <td>0.145711</td>\n",
              "      <td>0.000000</td>\n",
              "      <td>44.311378</td>\n",
              "      <td>f</td>\n",
              "      <td>0.0</td>\n",
              "      <td>16.38</td>\n",
              "      <td>16.38</td>\n",
              "      <td>1</td>\n",
              "      <td>18.89</td>\n",
              "      <td>6</td>\n",
              "      <td>kamkkxfxxuwbdslkwifmmcsiusiuosws</td>\n",
              "      <td>13.800</td>\n",
              "    </tr>\n",
              "    <tr>\n",
              "      <th>3</th>\n",
              "      <td>764c75f661154dac3a6c254cd082ea7d</td>\n",
              "      <td>NaN</td>\n",
              "      <td>NaN</td>\n",
              "      <td>foosdfpfkusacimwkcsosbicdxkicaua</td>\n",
              "      <td>544</td>\n",
              "      <td>0</td>\n",
              "      <td>0</td>\n",
              "      <td>2010-04-16</td>\n",
              "      <td>2016-04-16</td>\n",
              "      <td>NaN</td>\n",
              "      <td>2010-04-16</td>\n",
              "      <td>2015-04-17</td>\n",
              "      <td>NaN</td>\n",
              "      <td>NaN</td>\n",
              "      <td>NaN</td>\n",
              "      <td>NaN</td>\n",
              "      <td>47.96</td>\n",
              "      <td>0</td>\n",
              "      <td>0.0</td>\n",
              "      <td>38.72</td>\n",
              "      <td>0.165794</td>\n",
              "      <td>0.087899</td>\n",
              "      <td>44.311378</td>\n",
              "      <td>f</td>\n",
              "      <td>0.0</td>\n",
              "      <td>28.60</td>\n",
              "      <td>28.60</td>\n",
              "      <td>1</td>\n",
              "      <td>6.60</td>\n",
              "      <td>6</td>\n",
              "      <td>kamkkxfxxuwbdslkwifmmcsiusiuosws</td>\n",
              "      <td>13.856</td>\n",
              "    </tr>\n",
              "    <tr>\n",
              "      <th>4</th>\n",
              "      <td>bba03439a292a1e166f80264c16191cb</td>\n",
              "      <td>NaN</td>\n",
              "      <td>NaN</td>\n",
              "      <td>lmkebamcaaclubfxadlmueccxoimlema</td>\n",
              "      <td>1584</td>\n",
              "      <td>0</td>\n",
              "      <td>0</td>\n",
              "      <td>2010-03-30</td>\n",
              "      <td>2016-03-30</td>\n",
              "      <td>NaN</td>\n",
              "      <td>2010-03-30</td>\n",
              "      <td>2015-03-31</td>\n",
              "      <td>NaN</td>\n",
              "      <td>NaN</td>\n",
              "      <td>NaN</td>\n",
              "      <td>NaN</td>\n",
              "      <td>240.04</td>\n",
              "      <td>0</td>\n",
              "      <td>0.0</td>\n",
              "      <td>19.83</td>\n",
              "      <td>0.146694</td>\n",
              "      <td>0.000000</td>\n",
              "      <td>44.311378</td>\n",
              "      <td>f</td>\n",
              "      <td>0.0</td>\n",
              "      <td>30.22</td>\n",
              "      <td>30.22</td>\n",
              "      <td>1</td>\n",
              "      <td>25.46</td>\n",
              "      <td>6</td>\n",
              "      <td>kamkkxfxxuwbdslkwifmmcsiusiuosws</td>\n",
              "      <td>13.200</td>\n",
              "    </tr>\n",
              "  </tbody>\n",
              "</table>\n",
              "</div>"
            ],
            "text/plain": [
              "                                 id  ...  pow_max\n",
              "0  48ada52261e7cf58715202705a0451c9  ...  180.000\n",
              "1  24011ae4ebbe3035111d65fa7c15bc57  ...   43.648\n",
              "2  d29c2c54acc38ff3c0614d0a653813dd  ...   13.800\n",
              "3  764c75f661154dac3a6c254cd082ea7d  ...   13.856\n",
              "4  bba03439a292a1e166f80264c16191cb  ...   13.200\n",
              "\n",
              "[5 rows x 32 columns]"
            ]
          },
          "metadata": {
            "tags": []
          },
          "execution_count": 5
        }
      ]
    },
    {
      "cell_type": "markdown",
      "metadata": {
        "id": "MqDHR8c5UGRZ"
      },
      "source": [
        "From the above, it's possible to see that there are many missing values in the dataset."
      ]
    },
    {
      "cell_type": "code",
      "metadata": {
        "colab": {
          "base_uri": "https://localhost:8080/",
          "height": 204
        },
        "id": "dm4Zc-FwUh7_",
        "outputId": "10eadb95-0f97-4f35-f650-be8030f87114"
      },
      "source": [
        "df_hist.head()"
      ],
      "execution_count": 6,
      "outputs": [
        {
          "output_type": "execute_result",
          "data": {
            "text/html": [
              "<div>\n",
              "<style scoped>\n",
              "    .dataframe tbody tr th:only-of-type {\n",
              "        vertical-align: middle;\n",
              "    }\n",
              "\n",
              "    .dataframe tbody tr th {\n",
              "        vertical-align: top;\n",
              "    }\n",
              "\n",
              "    .dataframe thead th {\n",
              "        text-align: right;\n",
              "    }\n",
              "</style>\n",
              "<table border=\"1\" class=\"dataframe\">\n",
              "  <thead>\n",
              "    <tr style=\"text-align: right;\">\n",
              "      <th></th>\n",
              "      <th>id</th>\n",
              "      <th>price_date</th>\n",
              "      <th>price_p1_var</th>\n",
              "      <th>price_p2_var</th>\n",
              "      <th>price_p3_var</th>\n",
              "      <th>price_p1_fix</th>\n",
              "      <th>price_p2_fix</th>\n",
              "      <th>price_p3_fix</th>\n",
              "    </tr>\n",
              "  </thead>\n",
              "  <tbody>\n",
              "    <tr>\n",
              "      <th>0</th>\n",
              "      <td>038af19179925da21a25619c5a24b745</td>\n",
              "      <td>2015-01-01</td>\n",
              "      <td>0.151367</td>\n",
              "      <td>0.0</td>\n",
              "      <td>0.0</td>\n",
              "      <td>44.266931</td>\n",
              "      <td>0.0</td>\n",
              "      <td>0.0</td>\n",
              "    </tr>\n",
              "    <tr>\n",
              "      <th>1</th>\n",
              "      <td>038af19179925da21a25619c5a24b745</td>\n",
              "      <td>2015-02-01</td>\n",
              "      <td>0.151367</td>\n",
              "      <td>0.0</td>\n",
              "      <td>0.0</td>\n",
              "      <td>44.266931</td>\n",
              "      <td>0.0</td>\n",
              "      <td>0.0</td>\n",
              "    </tr>\n",
              "    <tr>\n",
              "      <th>2</th>\n",
              "      <td>038af19179925da21a25619c5a24b745</td>\n",
              "      <td>2015-03-01</td>\n",
              "      <td>0.151367</td>\n",
              "      <td>0.0</td>\n",
              "      <td>0.0</td>\n",
              "      <td>44.266931</td>\n",
              "      <td>0.0</td>\n",
              "      <td>0.0</td>\n",
              "    </tr>\n",
              "    <tr>\n",
              "      <th>3</th>\n",
              "      <td>038af19179925da21a25619c5a24b745</td>\n",
              "      <td>2015-04-01</td>\n",
              "      <td>0.149626</td>\n",
              "      <td>0.0</td>\n",
              "      <td>0.0</td>\n",
              "      <td>44.266931</td>\n",
              "      <td>0.0</td>\n",
              "      <td>0.0</td>\n",
              "    </tr>\n",
              "    <tr>\n",
              "      <th>4</th>\n",
              "      <td>038af19179925da21a25619c5a24b745</td>\n",
              "      <td>2015-05-01</td>\n",
              "      <td>0.149626</td>\n",
              "      <td>0.0</td>\n",
              "      <td>0.0</td>\n",
              "      <td>44.266931</td>\n",
              "      <td>0.0</td>\n",
              "      <td>0.0</td>\n",
              "    </tr>\n",
              "  </tbody>\n",
              "</table>\n",
              "</div>"
            ],
            "text/plain": [
              "                                 id  price_date  ...  price_p2_fix  price_p3_fix\n",
              "0  038af19179925da21a25619c5a24b745  2015-01-01  ...           0.0           0.0\n",
              "1  038af19179925da21a25619c5a24b745  2015-02-01  ...           0.0           0.0\n",
              "2  038af19179925da21a25619c5a24b745  2015-03-01  ...           0.0           0.0\n",
              "3  038af19179925da21a25619c5a24b745  2015-04-01  ...           0.0           0.0\n",
              "4  038af19179925da21a25619c5a24b745  2015-05-01  ...           0.0           0.0\n",
              "\n",
              "[5 rows x 8 columns]"
            ]
          },
          "metadata": {
            "tags": []
          },
          "execution_count": 6
        }
      ]
    },
    {
      "cell_type": "code",
      "metadata": {
        "colab": {
          "base_uri": "https://localhost:8080/",
          "height": 204
        },
        "id": "HMExBZWTUm7W",
        "outputId": "23bfe620-c8d1-4eec-9921-6af621633851"
      },
      "source": [
        "df_churn.head()"
      ],
      "execution_count": 7,
      "outputs": [
        {
          "output_type": "execute_result",
          "data": {
            "text/html": [
              "<div>\n",
              "<style scoped>\n",
              "    .dataframe tbody tr th:only-of-type {\n",
              "        vertical-align: middle;\n",
              "    }\n",
              "\n",
              "    .dataframe tbody tr th {\n",
              "        vertical-align: top;\n",
              "    }\n",
              "\n",
              "    .dataframe thead th {\n",
              "        text-align: right;\n",
              "    }\n",
              "</style>\n",
              "<table border=\"1\" class=\"dataframe\">\n",
              "  <thead>\n",
              "    <tr style=\"text-align: right;\">\n",
              "      <th></th>\n",
              "      <th>id</th>\n",
              "      <th>churn</th>\n",
              "    </tr>\n",
              "  </thead>\n",
              "  <tbody>\n",
              "    <tr>\n",
              "      <th>0</th>\n",
              "      <td>48ada52261e7cf58715202705a0451c9</td>\n",
              "      <td>0</td>\n",
              "    </tr>\n",
              "    <tr>\n",
              "      <th>1</th>\n",
              "      <td>24011ae4ebbe3035111d65fa7c15bc57</td>\n",
              "      <td>1</td>\n",
              "    </tr>\n",
              "    <tr>\n",
              "      <th>2</th>\n",
              "      <td>d29c2c54acc38ff3c0614d0a653813dd</td>\n",
              "      <td>0</td>\n",
              "    </tr>\n",
              "    <tr>\n",
              "      <th>3</th>\n",
              "      <td>764c75f661154dac3a6c254cd082ea7d</td>\n",
              "      <td>0</td>\n",
              "    </tr>\n",
              "    <tr>\n",
              "      <th>4</th>\n",
              "      <td>bba03439a292a1e166f80264c16191cb</td>\n",
              "      <td>0</td>\n",
              "    </tr>\n",
              "  </tbody>\n",
              "</table>\n",
              "</div>"
            ],
            "text/plain": [
              "                                 id  churn\n",
              "0  48ada52261e7cf58715202705a0451c9      0\n",
              "1  24011ae4ebbe3035111d65fa7c15bc57      1\n",
              "2  d29c2c54acc38ff3c0614d0a653813dd      0\n",
              "3  764c75f661154dac3a6c254cd082ea7d      0\n",
              "4  bba03439a292a1e166f80264c16191cb      0"
            ]
          },
          "metadata": {
            "tags": []
          },
          "execution_count": 7
        }
      ]
    },
    {
      "cell_type": "markdown",
      "metadata": {
        "id": "E5E6HVWTVVeX"
      },
      "source": [
        "The 3 datasets are connected with column ```id```. At first sight the amount of missing data in Churn and Historical data is lower than Customer data\r\n",
        "\r\n",
        "\r\n",
        "\r\n",
        "\r\n",
        "\r\n"
      ]
    },
    {
      "cell_type": "markdown",
      "metadata": {
        "id": "LLz_tFrCXFxY"
      },
      "source": [
        "Let's explore the size of every dataset"
      ]
    },
    {
      "cell_type": "code",
      "metadata": {
        "colab": {
          "base_uri": "https://localhost:8080/",
          "height": 0
        },
        "id": "2ZiJvIqb_lFS",
        "outputId": "0e051ccb-c631-499f-a3d0-eb70b4e53026"
      },
      "source": [
        "#Shape of datasets\r\n",
        "\r\n",
        "print('Shape of Customer dataframe (Rows,Columns):',df_customer.shape)\r\n",
        "print('Shape of Churn (Rows,Columns):',df_churn.shape)\r\n",
        "print('Shape of Historic dataframe (Rows,Columns):',df_hist.shape)\r\n",
        "\r\n",
        "#Number of unique rows by id in Customer\r\n",
        "\r\n",
        "print('\\nNumber of unique rows by Id in Customer',df_customer.id.nunique())"
      ],
      "execution_count": 8,
      "outputs": [
        {
          "output_type": "stream",
          "text": [
            "Shape of Customer dataframe (Rows,Columns): (16096, 32)\n",
            "Shape of Churn (Rows,Columns): (16096, 2)\n",
            "Shape of Historic dataframe (Rows,Columns): (193002, 8)\n",
            "\n",
            "Number of unique rows by Id in Customer 16096\n"
          ],
          "name": "stdout"
        }
      ]
    },
    {
      "cell_type": "markdown",
      "metadata": {
        "id": "z1GoAVrFXrNf"
      },
      "source": [
        "Based on the previous result, we decided to merge both datasets: Customer and Churn\r\n",
        "The idea is to have one dataset to perform better analysis in later stages."
      ]
    },
    {
      "cell_type": "code",
      "metadata": {
        "id": "0-2L1xT6YVGA"
      },
      "source": [
        "#Merge datasets\r\n",
        "\r\n",
        "df_customer=df_customer.merge(df_churn,on='id')"
      ],
      "execution_count": 9,
      "outputs": []
    },
    {
      "cell_type": "markdown",
      "metadata": {
        "id": "r5k0LvUCY78H"
      },
      "source": [
        "# General Statistics of datasets"
      ]
    },
    {
      "cell_type": "markdown",
      "metadata": {
        "id": "lJeusOVUduWx"
      },
      "source": [
        "## Data types"
      ]
    },
    {
      "cell_type": "markdown",
      "metadata": {
        "id": "MiZY6zuuZo1D"
      },
      "source": [
        "Let's explore data types for each dataset."
      ]
    },
    {
      "cell_type": "code",
      "metadata": {
        "colab": {
          "base_uri": "https://localhost:8080/",
          "height": 0
        },
        "id": "qH3sV1tb_21y",
        "outputId": "c18a3a8f-d32a-4a01-e25f-932c4e0b333e"
      },
      "source": [
        "#Customer data info\r\n",
        "\r\n",
        "df_customer.info()"
      ],
      "execution_count": 10,
      "outputs": [
        {
          "output_type": "stream",
          "text": [
            "<class 'pandas.core.frame.DataFrame'>\n",
            "Int64Index: 16096 entries, 0 to 16095\n",
            "Data columns (total 33 columns):\n",
            " #   Column                    Non-Null Count  Dtype  \n",
            "---  ------                    --------------  -----  \n",
            " 0   id                        16096 non-null  object \n",
            " 1   activity_new              6551 non-null   object \n",
            " 2   campaign_disc_ele         0 non-null      float64\n",
            " 3   channel_sales             11878 non-null  object \n",
            " 4   cons_12m                  16096 non-null  int64  \n",
            " 5   cons_gas_12m              16096 non-null  int64  \n",
            " 6   cons_last_month           16096 non-null  int64  \n",
            " 7   date_activ                16096 non-null  object \n",
            " 8   date_end                  16094 non-null  object \n",
            " 9   date_first_activ          3508 non-null   object \n",
            " 10  date_modif_prod           15939 non-null  object \n",
            " 11  date_renewal              16056 non-null  object \n",
            " 12  forecast_base_bill_ele    3508 non-null   float64\n",
            " 13  forecast_base_bill_year   3508 non-null   float64\n",
            " 14  forecast_bill_12m         3508 non-null   float64\n",
            " 15  forecast_cons             3508 non-null   float64\n",
            " 16  forecast_cons_12m         16096 non-null  float64\n",
            " 17  forecast_cons_year        16096 non-null  int64  \n",
            " 18  forecast_discount_energy  15970 non-null  float64\n",
            " 19  forecast_meter_rent_12m   16096 non-null  float64\n",
            " 20  forecast_price_energy_p1  15970 non-null  float64\n",
            " 21  forecast_price_energy_p2  15970 non-null  float64\n",
            " 22  forecast_price_pow_p1     15970 non-null  float64\n",
            " 23  has_gas                   16096 non-null  object \n",
            " 24  imp_cons                  16096 non-null  float64\n",
            " 25  margin_gross_pow_ele      16083 non-null  float64\n",
            " 26  margin_net_pow_ele        16083 non-null  float64\n",
            " 27  nb_prod_act               16096 non-null  int64  \n",
            " 28  net_margin                16081 non-null  float64\n",
            " 29  num_years_antig           16096 non-null  int64  \n",
            " 30  origin_up                 16009 non-null  object \n",
            " 31  pow_max                   16093 non-null  float64\n",
            " 32  churn                     16096 non-null  int64  \n",
            "dtypes: float64(16), int64(7), object(10)\n",
            "memory usage: 4.2+ MB\n"
          ],
          "name": "stdout"
        }
      ]
    },
    {
      "cell_type": "code",
      "metadata": {
        "colab": {
          "base_uri": "https://localhost:8080/",
          "height": 0
        },
        "id": "hPpxbZsaanX7",
        "outputId": "69d4313d-4ec8-4310-f205-62bdae695379"
      },
      "source": [
        "#Historic data info\r\n",
        "\r\n",
        "df_hist.info()"
      ],
      "execution_count": 11,
      "outputs": [
        {
          "output_type": "stream",
          "text": [
            "<class 'pandas.core.frame.DataFrame'>\n",
            "RangeIndex: 193002 entries, 0 to 193001\n",
            "Data columns (total 8 columns):\n",
            " #   Column        Non-Null Count   Dtype  \n",
            "---  ------        --------------   -----  \n",
            " 0   id            193002 non-null  object \n",
            " 1   price_date    193002 non-null  object \n",
            " 2   price_p1_var  191643 non-null  float64\n",
            " 3   price_p2_var  191643 non-null  float64\n",
            " 4   price_p3_var  191643 non-null  float64\n",
            " 5   price_p1_fix  191643 non-null  float64\n",
            " 6   price_p2_fix  191643 non-null  float64\n",
            " 7   price_p3_fix  191643 non-null  float64\n",
            "dtypes: float64(6), object(2)\n",
            "memory usage: 11.8+ MB\n"
          ],
          "name": "stdout"
        }
      ]
    },
    {
      "cell_type": "markdown",
      "metadata": {
        "id": "zESI3tSVbI7g"
      },
      "source": [
        "From the above we can observe the following outputs:\r\n",
        "*   Date colums are with numeric format. They need to be transformed to datetime objects.\r\n",
        "*   There are a lot of missing values, specially in Customer dataset.\r\n",
        "*   The columns ```campaign_disc_ele``` is a null column, which means that can be deleted later.\r\n",
        "\r\n"
      ]
    },
    {
      "cell_type": "markdown",
      "metadata": {
        "id": "14d7Bc_tdzEO"
      },
      "source": [
        "## Dataset Statistics"
      ]
    },
    {
      "cell_type": "markdown",
      "metadata": {
        "id": "x7OxD1uud9NZ"
      },
      "source": [
        "Exploring main statistics in the datasets"
      ]
    },
    {
      "cell_type": "code",
      "metadata": {
        "colab": {
          "base_uri": "https://localhost:8080/",
          "height": 317
        },
        "id": "bv5uTv0Nrq6_",
        "outputId": "b401341d-b511-4070-d0fc-bc7c06243b8e"
      },
      "source": [
        "#Statistics of Customer dataset\r\n",
        "\r\n",
        "round(df_customer.describe(),1)"
      ],
      "execution_count": 12,
      "outputs": [
        {
          "output_type": "execute_result",
          "data": {
            "text/html": [
              "<div>\n",
              "<style scoped>\n",
              "    .dataframe tbody tr th:only-of-type {\n",
              "        vertical-align: middle;\n",
              "    }\n",
              "\n",
              "    .dataframe tbody tr th {\n",
              "        vertical-align: top;\n",
              "    }\n",
              "\n",
              "    .dataframe thead th {\n",
              "        text-align: right;\n",
              "    }\n",
              "</style>\n",
              "<table border=\"1\" class=\"dataframe\">\n",
              "  <thead>\n",
              "    <tr style=\"text-align: right;\">\n",
              "      <th></th>\n",
              "      <th>campaign_disc_ele</th>\n",
              "      <th>cons_12m</th>\n",
              "      <th>cons_gas_12m</th>\n",
              "      <th>cons_last_month</th>\n",
              "      <th>forecast_base_bill_ele</th>\n",
              "      <th>forecast_base_bill_year</th>\n",
              "      <th>forecast_bill_12m</th>\n",
              "      <th>forecast_cons</th>\n",
              "      <th>forecast_cons_12m</th>\n",
              "      <th>forecast_cons_year</th>\n",
              "      <th>forecast_discount_energy</th>\n",
              "      <th>forecast_meter_rent_12m</th>\n",
              "      <th>forecast_price_energy_p1</th>\n",
              "      <th>forecast_price_energy_p2</th>\n",
              "      <th>forecast_price_pow_p1</th>\n",
              "      <th>imp_cons</th>\n",
              "      <th>margin_gross_pow_ele</th>\n",
              "      <th>margin_net_pow_ele</th>\n",
              "      <th>nb_prod_act</th>\n",
              "      <th>net_margin</th>\n",
              "      <th>num_years_antig</th>\n",
              "      <th>pow_max</th>\n",
              "      <th>churn</th>\n",
              "    </tr>\n",
              "  </thead>\n",
              "  <tbody>\n",
              "    <tr>\n",
              "      <th>count</th>\n",
              "      <td>0.0</td>\n",
              "      <td>16096.0</td>\n",
              "      <td>16096.0</td>\n",
              "      <td>16096.0</td>\n",
              "      <td>3508.0</td>\n",
              "      <td>3508.0</td>\n",
              "      <td>3508.0</td>\n",
              "      <td>3508.0</td>\n",
              "      <td>16096.0</td>\n",
              "      <td>16096.0</td>\n",
              "      <td>15970.0</td>\n",
              "      <td>16096.0</td>\n",
              "      <td>15970.0</td>\n",
              "      <td>15970.0</td>\n",
              "      <td>15970.0</td>\n",
              "      <td>16096.0</td>\n",
              "      <td>16083.0</td>\n",
              "      <td>16083.0</td>\n",
              "      <td>16096.0</td>\n",
              "      <td>16081.0</td>\n",
              "      <td>16096.0</td>\n",
              "      <td>16093.0</td>\n",
              "      <td>16096.0</td>\n",
              "    </tr>\n",
              "    <tr>\n",
              "      <th>mean</th>\n",
              "      <td>NaN</td>\n",
              "      <td>194804.4</td>\n",
              "      <td>31911.6</td>\n",
              "      <td>19461.5</td>\n",
              "      <td>335.8</td>\n",
              "      <td>335.8</td>\n",
              "      <td>3837.4</td>\n",
              "      <td>206.8</td>\n",
              "      <td>2370.6</td>\n",
              "      <td>1907.3</td>\n",
              "      <td>1.0</td>\n",
              "      <td>70.3</td>\n",
              "      <td>0.1</td>\n",
              "      <td>0.1</td>\n",
              "      <td>43.5</td>\n",
              "      <td>196.1</td>\n",
              "      <td>22.5</td>\n",
              "      <td>21.5</td>\n",
              "      <td>1.3</td>\n",
              "      <td>218.0</td>\n",
              "      <td>5.0</td>\n",
              "      <td>20.6</td>\n",
              "      <td>0.1</td>\n",
              "    </tr>\n",
              "    <tr>\n",
              "      <th>std</th>\n",
              "      <td>NaN</td>\n",
              "      <td>679515.1</td>\n",
              "      <td>177588.5</td>\n",
              "      <td>82356.8</td>\n",
              "      <td>649.4</td>\n",
              "      <td>649.4</td>\n",
              "      <td>5425.7</td>\n",
              "      <td>455.6</td>\n",
              "      <td>4035.1</td>\n",
              "      <td>5257.4</td>\n",
              "      <td>5.2</td>\n",
              "      <td>79.0</td>\n",
              "      <td>0.0</td>\n",
              "      <td>0.0</td>\n",
              "      <td>5.2</td>\n",
              "      <td>494.4</td>\n",
              "      <td>23.7</td>\n",
              "      <td>27.9</td>\n",
              "      <td>1.5</td>\n",
              "      <td>366.7</td>\n",
              "      <td>1.7</td>\n",
              "      <td>21.8</td>\n",
              "      <td>0.3</td>\n",
              "    </tr>\n",
              "    <tr>\n",
              "      <th>min</th>\n",
              "      <td>NaN</td>\n",
              "      <td>-125276.0</td>\n",
              "      <td>-3037.0</td>\n",
              "      <td>-91386.0</td>\n",
              "      <td>-364.9</td>\n",
              "      <td>-364.9</td>\n",
              "      <td>-2503.5</td>\n",
              "      <td>0.0</td>\n",
              "      <td>-16689.3</td>\n",
              "      <td>-85627.0</td>\n",
              "      <td>0.0</td>\n",
              "      <td>-243.0</td>\n",
              "      <td>0.0</td>\n",
              "      <td>0.0</td>\n",
              "      <td>-0.1</td>\n",
              "      <td>-9038.2</td>\n",
              "      <td>-525.5</td>\n",
              "      <td>-615.7</td>\n",
              "      <td>1.0</td>\n",
              "      <td>-4149.0</td>\n",
              "      <td>1.0</td>\n",
              "      <td>1.0</td>\n",
              "      <td>0.0</td>\n",
              "    </tr>\n",
              "    <tr>\n",
              "      <th>25%</th>\n",
              "      <td>NaN</td>\n",
              "      <td>5906.2</td>\n",
              "      <td>0.0</td>\n",
              "      <td>0.0</td>\n",
              "      <td>0.0</td>\n",
              "      <td>0.0</td>\n",
              "      <td>1158.2</td>\n",
              "      <td>0.0</td>\n",
              "      <td>513.2</td>\n",
              "      <td>0.0</td>\n",
              "      <td>0.0</td>\n",
              "      <td>16.2</td>\n",
              "      <td>0.1</td>\n",
              "      <td>0.0</td>\n",
              "      <td>40.6</td>\n",
              "      <td>0.0</td>\n",
              "      <td>12.0</td>\n",
              "      <td>12.0</td>\n",
              "      <td>1.0</td>\n",
              "      <td>52.0</td>\n",
              "      <td>4.0</td>\n",
              "      <td>12.5</td>\n",
              "      <td>0.0</td>\n",
              "    </tr>\n",
              "    <tr>\n",
              "      <th>50%</th>\n",
              "      <td>NaN</td>\n",
              "      <td>15332.5</td>\n",
              "      <td>0.0</td>\n",
              "      <td>901.0</td>\n",
              "      <td>163.0</td>\n",
              "      <td>163.0</td>\n",
              "      <td>2187.2</td>\n",
              "      <td>42.2</td>\n",
              "      <td>1179.2</td>\n",
              "      <td>378.0</td>\n",
              "      <td>0.0</td>\n",
              "      <td>19.4</td>\n",
              "      <td>0.1</td>\n",
              "      <td>0.1</td>\n",
              "      <td>44.3</td>\n",
              "      <td>44.5</td>\n",
              "      <td>21.1</td>\n",
              "      <td>21.0</td>\n",
              "      <td>1.0</td>\n",
              "      <td>119.7</td>\n",
              "      <td>5.0</td>\n",
              "      <td>13.9</td>\n",
              "      <td>0.0</td>\n",
              "    </tr>\n",
              "    <tr>\n",
              "      <th>75%</th>\n",
              "      <td>NaN</td>\n",
              "      <td>50221.5</td>\n",
              "      <td>0.0</td>\n",
              "      <td>4127.0</td>\n",
              "      <td>396.2</td>\n",
              "      <td>396.2</td>\n",
              "      <td>4246.6</td>\n",
              "      <td>228.1</td>\n",
              "      <td>2692.1</td>\n",
              "      <td>1994.2</td>\n",
              "      <td>0.0</td>\n",
              "      <td>131.5</td>\n",
              "      <td>0.1</td>\n",
              "      <td>0.1</td>\n",
              "      <td>44.3</td>\n",
              "      <td>218.1</td>\n",
              "      <td>29.6</td>\n",
              "      <td>29.6</td>\n",
              "      <td>1.0</td>\n",
              "      <td>275.8</td>\n",
              "      <td>6.0</td>\n",
              "      <td>19.8</td>\n",
              "      <td>0.0</td>\n",
              "    </tr>\n",
              "    <tr>\n",
              "      <th>max</th>\n",
              "      <td>NaN</td>\n",
              "      <td>16097108.0</td>\n",
              "      <td>4188440.0</td>\n",
              "      <td>4538720.0</td>\n",
              "      <td>12566.1</td>\n",
              "      <td>12566.1</td>\n",
              "      <td>81122.6</td>\n",
              "      <td>9682.9</td>\n",
              "      <td>103801.9</td>\n",
              "      <td>175375.0</td>\n",
              "      <td>50.0</td>\n",
              "      <td>2411.7</td>\n",
              "      <td>0.3</td>\n",
              "      <td>0.2</td>\n",
              "      <td>59.4</td>\n",
              "      <td>15042.8</td>\n",
              "      <td>374.6</td>\n",
              "      <td>374.6</td>\n",
              "      <td>32.0</td>\n",
              "      <td>24570.6</td>\n",
              "      <td>16.0</td>\n",
              "      <td>500.0</td>\n",
              "      <td>1.0</td>\n",
              "    </tr>\n",
              "  </tbody>\n",
              "</table>\n",
              "</div>"
            ],
            "text/plain": [
              "       campaign_disc_ele    cons_12m  ...  pow_max    churn\n",
              "count                0.0     16096.0  ...  16093.0  16096.0\n",
              "mean                 NaN    194804.4  ...     20.6      0.1\n",
              "std                  NaN    679515.1  ...     21.8      0.3\n",
              "min                  NaN   -125276.0  ...      1.0      0.0\n",
              "25%                  NaN      5906.2  ...     12.5      0.0\n",
              "50%                  NaN     15332.5  ...     13.9      0.0\n",
              "75%                  NaN     50221.5  ...     19.8      0.0\n",
              "max                  NaN  16097108.0  ...    500.0      1.0\n",
              "\n",
              "[8 rows x 23 columns]"
            ]
          },
          "metadata": {
            "tags": []
          },
          "execution_count": 12
        }
      ]
    },
    {
      "cell_type": "markdown",
      "metadata": {
        "id": "VpEY9OiAtO17"
      },
      "source": [
        "The output showed us that consumption and forecast data present negative data, what is really extrange for this analysis. It could be data that are corrupted.\r\n",
        "\r\n",
        "Data are very skewed based on differences between percentile 50 (median) and the mean."
      ]
    },
    {
      "cell_type": "code",
      "metadata": {
        "colab": {
          "base_uri": "https://localhost:8080/",
          "height": 297
        },
        "id": "XlfheFdxW7ih",
        "outputId": "a53950b8-45ee-4ab2-d2b2-e628d9e3bf29"
      },
      "source": [
        "#Statistics of Customer dataset\r\n",
        "\r\n",
        "round(df_hist.describe(),1)"
      ],
      "execution_count": 13,
      "outputs": [
        {
          "output_type": "execute_result",
          "data": {
            "text/html": [
              "<div>\n",
              "<style scoped>\n",
              "    .dataframe tbody tr th:only-of-type {\n",
              "        vertical-align: middle;\n",
              "    }\n",
              "\n",
              "    .dataframe tbody tr th {\n",
              "        vertical-align: top;\n",
              "    }\n",
              "\n",
              "    .dataframe thead th {\n",
              "        text-align: right;\n",
              "    }\n",
              "</style>\n",
              "<table border=\"1\" class=\"dataframe\">\n",
              "  <thead>\n",
              "    <tr style=\"text-align: right;\">\n",
              "      <th></th>\n",
              "      <th>price_p1_var</th>\n",
              "      <th>price_p2_var</th>\n",
              "      <th>price_p3_var</th>\n",
              "      <th>price_p1_fix</th>\n",
              "      <th>price_p2_fix</th>\n",
              "      <th>price_p3_fix</th>\n",
              "    </tr>\n",
              "  </thead>\n",
              "  <tbody>\n",
              "    <tr>\n",
              "      <th>count</th>\n",
              "      <td>191643.0</td>\n",
              "      <td>191643.0</td>\n",
              "      <td>191643.0</td>\n",
              "      <td>191643.0</td>\n",
              "      <td>191643.0</td>\n",
              "      <td>191643.0</td>\n",
              "    </tr>\n",
              "    <tr>\n",
              "      <th>mean</th>\n",
              "      <td>0.1</td>\n",
              "      <td>0.1</td>\n",
              "      <td>0.0</td>\n",
              "      <td>43.3</td>\n",
              "      <td>10.7</td>\n",
              "      <td>6.5</td>\n",
              "    </tr>\n",
              "    <tr>\n",
              "      <th>std</th>\n",
              "      <td>0.0</td>\n",
              "      <td>0.1</td>\n",
              "      <td>0.0</td>\n",
              "      <td>5.4</td>\n",
              "      <td>12.9</td>\n",
              "      <td>7.8</td>\n",
              "    </tr>\n",
              "    <tr>\n",
              "      <th>min</th>\n",
              "      <td>0.0</td>\n",
              "      <td>0.0</td>\n",
              "      <td>0.0</td>\n",
              "      <td>-0.2</td>\n",
              "      <td>-0.1</td>\n",
              "      <td>-0.1</td>\n",
              "    </tr>\n",
              "    <tr>\n",
              "      <th>25%</th>\n",
              "      <td>0.1</td>\n",
              "      <td>0.0</td>\n",
              "      <td>0.0</td>\n",
              "      <td>40.7</td>\n",
              "      <td>0.0</td>\n",
              "      <td>0.0</td>\n",
              "    </tr>\n",
              "    <tr>\n",
              "      <th>50%</th>\n",
              "      <td>0.1</td>\n",
              "      <td>0.1</td>\n",
              "      <td>0.0</td>\n",
              "      <td>44.3</td>\n",
              "      <td>0.0</td>\n",
              "      <td>0.0</td>\n",
              "    </tr>\n",
              "    <tr>\n",
              "      <th>75%</th>\n",
              "      <td>0.2</td>\n",
              "      <td>0.1</td>\n",
              "      <td>0.1</td>\n",
              "      <td>44.4</td>\n",
              "      <td>24.3</td>\n",
              "      <td>16.2</td>\n",
              "    </tr>\n",
              "    <tr>\n",
              "      <th>max</th>\n",
              "      <td>0.3</td>\n",
              "      <td>0.2</td>\n",
              "      <td>0.1</td>\n",
              "      <td>59.4</td>\n",
              "      <td>36.5</td>\n",
              "      <td>17.5</td>\n",
              "    </tr>\n",
              "  </tbody>\n",
              "</table>\n",
              "</div>"
            ],
            "text/plain": [
              "       price_p1_var  price_p2_var  ...  price_p2_fix  price_p3_fix\n",
              "count      191643.0      191643.0  ...      191643.0      191643.0\n",
              "mean            0.1           0.1  ...          10.7           6.5\n",
              "std             0.0           0.1  ...          12.9           7.8\n",
              "min             0.0           0.0  ...          -0.1          -0.1\n",
              "25%             0.1           0.0  ...           0.0           0.0\n",
              "50%             0.1           0.1  ...           0.0           0.0\n",
              "75%             0.2           0.1  ...          24.3          16.2\n",
              "max             0.3           0.2  ...          36.5          17.5\n",
              "\n",
              "[8 rows x 6 columns]"
            ]
          },
          "metadata": {
            "tags": []
          },
          "execution_count": 13
        }
      ]
    },
    {
      "cell_type": "markdown",
      "metadata": {
        "id": "n17rAR7XXIKl"
      },
      "source": [
        "From the above, we can conclude that historical data are more centered. The only concern is that fix prices have negative data, which could be corrupted data. "
      ]
    },
    {
      "cell_type": "markdown",
      "metadata": {
        "id": "jQ0kRToaX803"
      },
      "source": [
        "## Missing Data"
      ]
    },
    {
      "cell_type": "markdown",
      "metadata": {
        "id": "GsohSuiKYDSP"
      },
      "source": [
        "We are going to explore missing values in both datasets."
      ]
    },
    {
      "cell_type": "code",
      "metadata": {
        "colab": {
          "base_uri": "https://localhost:8080/",
          "height": 1072
        },
        "id": "qL0n66b7YOS1",
        "outputId": "46f93846-4f41-487b-916b-7e4e7d90252e"
      },
      "source": [
        "#Missing data in Customer (Looking for NaN's)\r\n",
        "\r\n",
        "pd.DataFrame({'% Missing Values':round(df_customer.isna().sum()/len(df_customer)*100,2)})"
      ],
      "execution_count": 14,
      "outputs": [
        {
          "output_type": "execute_result",
          "data": {
            "text/html": [
              "<div>\n",
              "<style scoped>\n",
              "    .dataframe tbody tr th:only-of-type {\n",
              "        vertical-align: middle;\n",
              "    }\n",
              "\n",
              "    .dataframe tbody tr th {\n",
              "        vertical-align: top;\n",
              "    }\n",
              "\n",
              "    .dataframe thead th {\n",
              "        text-align: right;\n",
              "    }\n",
              "</style>\n",
              "<table border=\"1\" class=\"dataframe\">\n",
              "  <thead>\n",
              "    <tr style=\"text-align: right;\">\n",
              "      <th></th>\n",
              "      <th>% Missing Values</th>\n",
              "    </tr>\n",
              "  </thead>\n",
              "  <tbody>\n",
              "    <tr>\n",
              "      <th>id</th>\n",
              "      <td>0.00</td>\n",
              "    </tr>\n",
              "    <tr>\n",
              "      <th>activity_new</th>\n",
              "      <td>59.30</td>\n",
              "    </tr>\n",
              "    <tr>\n",
              "      <th>campaign_disc_ele</th>\n",
              "      <td>100.00</td>\n",
              "    </tr>\n",
              "    <tr>\n",
              "      <th>channel_sales</th>\n",
              "      <td>26.21</td>\n",
              "    </tr>\n",
              "    <tr>\n",
              "      <th>cons_12m</th>\n",
              "      <td>0.00</td>\n",
              "    </tr>\n",
              "    <tr>\n",
              "      <th>cons_gas_12m</th>\n",
              "      <td>0.00</td>\n",
              "    </tr>\n",
              "    <tr>\n",
              "      <th>cons_last_month</th>\n",
              "      <td>0.00</td>\n",
              "    </tr>\n",
              "    <tr>\n",
              "      <th>date_activ</th>\n",
              "      <td>0.00</td>\n",
              "    </tr>\n",
              "    <tr>\n",
              "      <th>date_end</th>\n",
              "      <td>0.01</td>\n",
              "    </tr>\n",
              "    <tr>\n",
              "      <th>date_first_activ</th>\n",
              "      <td>78.21</td>\n",
              "    </tr>\n",
              "    <tr>\n",
              "      <th>date_modif_prod</th>\n",
              "      <td>0.98</td>\n",
              "    </tr>\n",
              "    <tr>\n",
              "      <th>date_renewal</th>\n",
              "      <td>0.25</td>\n",
              "    </tr>\n",
              "    <tr>\n",
              "      <th>forecast_base_bill_ele</th>\n",
              "      <td>78.21</td>\n",
              "    </tr>\n",
              "    <tr>\n",
              "      <th>forecast_base_bill_year</th>\n",
              "      <td>78.21</td>\n",
              "    </tr>\n",
              "    <tr>\n",
              "      <th>forecast_bill_12m</th>\n",
              "      <td>78.21</td>\n",
              "    </tr>\n",
              "    <tr>\n",
              "      <th>forecast_cons</th>\n",
              "      <td>78.21</td>\n",
              "    </tr>\n",
              "    <tr>\n",
              "      <th>forecast_cons_12m</th>\n",
              "      <td>0.00</td>\n",
              "    </tr>\n",
              "    <tr>\n",
              "      <th>forecast_cons_year</th>\n",
              "      <td>0.00</td>\n",
              "    </tr>\n",
              "    <tr>\n",
              "      <th>forecast_discount_energy</th>\n",
              "      <td>0.78</td>\n",
              "    </tr>\n",
              "    <tr>\n",
              "      <th>forecast_meter_rent_12m</th>\n",
              "      <td>0.00</td>\n",
              "    </tr>\n",
              "    <tr>\n",
              "      <th>forecast_price_energy_p1</th>\n",
              "      <td>0.78</td>\n",
              "    </tr>\n",
              "    <tr>\n",
              "      <th>forecast_price_energy_p2</th>\n",
              "      <td>0.78</td>\n",
              "    </tr>\n",
              "    <tr>\n",
              "      <th>forecast_price_pow_p1</th>\n",
              "      <td>0.78</td>\n",
              "    </tr>\n",
              "    <tr>\n",
              "      <th>has_gas</th>\n",
              "      <td>0.00</td>\n",
              "    </tr>\n",
              "    <tr>\n",
              "      <th>imp_cons</th>\n",
              "      <td>0.00</td>\n",
              "    </tr>\n",
              "    <tr>\n",
              "      <th>margin_gross_pow_ele</th>\n",
              "      <td>0.08</td>\n",
              "    </tr>\n",
              "    <tr>\n",
              "      <th>margin_net_pow_ele</th>\n",
              "      <td>0.08</td>\n",
              "    </tr>\n",
              "    <tr>\n",
              "      <th>nb_prod_act</th>\n",
              "      <td>0.00</td>\n",
              "    </tr>\n",
              "    <tr>\n",
              "      <th>net_margin</th>\n",
              "      <td>0.09</td>\n",
              "    </tr>\n",
              "    <tr>\n",
              "      <th>num_years_antig</th>\n",
              "      <td>0.00</td>\n",
              "    </tr>\n",
              "    <tr>\n",
              "      <th>origin_up</th>\n",
              "      <td>0.54</td>\n",
              "    </tr>\n",
              "    <tr>\n",
              "      <th>pow_max</th>\n",
              "      <td>0.02</td>\n",
              "    </tr>\n",
              "    <tr>\n",
              "      <th>churn</th>\n",
              "      <td>0.00</td>\n",
              "    </tr>\n",
              "  </tbody>\n",
              "</table>\n",
              "</div>"
            ],
            "text/plain": [
              "                          % Missing Values\n",
              "id                                    0.00\n",
              "activity_new                         59.30\n",
              "campaign_disc_ele                   100.00\n",
              "channel_sales                        26.21\n",
              "cons_12m                              0.00\n",
              "cons_gas_12m                          0.00\n",
              "cons_last_month                       0.00\n",
              "date_activ                            0.00\n",
              "date_end                              0.01\n",
              "date_first_activ                     78.21\n",
              "date_modif_prod                       0.98\n",
              "date_renewal                          0.25\n",
              "forecast_base_bill_ele               78.21\n",
              "forecast_base_bill_year              78.21\n",
              "forecast_bill_12m                    78.21\n",
              "forecast_cons                        78.21\n",
              "forecast_cons_12m                     0.00\n",
              "forecast_cons_year                    0.00\n",
              "forecast_discount_energy              0.78\n",
              "forecast_meter_rent_12m               0.00\n",
              "forecast_price_energy_p1              0.78\n",
              "forecast_price_energy_p2              0.78\n",
              "forecast_price_pow_p1                 0.78\n",
              "has_gas                               0.00\n",
              "imp_cons                              0.00\n",
              "margin_gross_pow_ele                  0.08\n",
              "margin_net_pow_ele                    0.08\n",
              "nb_prod_act                           0.00\n",
              "net_margin                            0.09\n",
              "num_years_antig                       0.00\n",
              "origin_up                             0.54\n",
              "pow_max                               0.02\n",
              "churn                                 0.00"
            ]
          },
          "metadata": {
            "tags": []
          },
          "execution_count": 14
        }
      ]
    },
    {
      "cell_type": "code",
      "metadata": {
        "colab": {
          "base_uri": "https://localhost:8080/",
          "height": 513
        },
        "id": "HnsGARvHdEUb",
        "outputId": "ab916cd0-01fd-4741-cc0c-fdb7db350bf9"
      },
      "source": [
        "#Now visually\r\n",
        "\r\n",
        "fig, ax = plt.subplots(figsize = (12,6))\r\n",
        "sns.heatmap(df_customer.isna(),yticklabels=False)"
      ],
      "execution_count": 15,
      "outputs": [
        {
          "output_type": "execute_result",
          "data": {
            "text/plain": [
              "<matplotlib.axes._subplots.AxesSubplot at 0x7f7cfdad24a8>"
            ]
          },
          "metadata": {
            "tags": []
          },
          "execution_count": 15
        },
        {
          "output_type": "display_data",
          "data": {
            "image/png": "[encoded data removed]",
            "text/plain": [
              "<Figure size 864x432 with 2 Axes>"
            ]
          },
          "metadata": {
            "tags": [],
            "needs_background": "light"
          }
        }
      ]
    },
    {
      "cell_type": "markdown",
      "metadata": {
        "id": "778MNzF7aEjS"
      },
      "source": [
        "Some features in customer dataset like ```date_first_activ,forecast_base_bill_ele,forecast_base_bill_year,forecast_bill_12m,forecast_bill_12m``` have more than 70% of missing data. We can drop those features later because of the missing data."
      ]
    },
    {
      "cell_type": "code",
      "metadata": {
        "colab": {
          "base_uri": "https://localhost:8080/",
          "height": 297
        },
        "id": "HJJN460xXG29",
        "outputId": "3ad69e82-be49-4d1a-8092-180843a1fad2"
      },
      "source": [
        "#Missing data in Historical (Looking for NaN's)\r\n",
        "\r\n",
        "pd.DataFrame({'% Missing Values':round(df_hist.isna().sum()/len(df_hist)*100,2)})"
      ],
      "execution_count": 16,
      "outputs": [
        {
          "output_type": "execute_result",
          "data": {
            "text/html": [
              "<div>\n",
              "<style scoped>\n",
              "    .dataframe tbody tr th:only-of-type {\n",
              "        vertical-align: middle;\n",
              "    }\n",
              "\n",
              "    .dataframe tbody tr th {\n",
              "        vertical-align: top;\n",
              "    }\n",
              "\n",
              "    .dataframe thead th {\n",
              "        text-align: right;\n",
              "    }\n",
              "</style>\n",
              "<table border=\"1\" class=\"dataframe\">\n",
              "  <thead>\n",
              "    <tr style=\"text-align: right;\">\n",
              "      <th></th>\n",
              "      <th>% Missing Values</th>\n",
              "    </tr>\n",
              "  </thead>\n",
              "  <tbody>\n",
              "    <tr>\n",
              "      <th>id</th>\n",
              "      <td>0.0</td>\n",
              "    </tr>\n",
              "    <tr>\n",
              "      <th>price_date</th>\n",
              "      <td>0.0</td>\n",
              "    </tr>\n",
              "    <tr>\n",
              "      <th>price_p1_var</th>\n",
              "      <td>0.7</td>\n",
              "    </tr>\n",
              "    <tr>\n",
              "      <th>price_p2_var</th>\n",
              "      <td>0.7</td>\n",
              "    </tr>\n",
              "    <tr>\n",
              "      <th>price_p3_var</th>\n",
              "      <td>0.7</td>\n",
              "    </tr>\n",
              "    <tr>\n",
              "      <th>price_p1_fix</th>\n",
              "      <td>0.7</td>\n",
              "    </tr>\n",
              "    <tr>\n",
              "      <th>price_p2_fix</th>\n",
              "      <td>0.7</td>\n",
              "    </tr>\n",
              "    <tr>\n",
              "      <th>price_p3_fix</th>\n",
              "      <td>0.7</td>\n",
              "    </tr>\n",
              "  </tbody>\n",
              "</table>\n",
              "</div>"
            ],
            "text/plain": [
              "              % Missing Values\n",
              "id                         0.0\n",
              "price_date                 0.0\n",
              "price_p1_var               0.7\n",
              "price_p2_var               0.7\n",
              "price_p3_var               0.7\n",
              "price_p1_fix               0.7\n",
              "price_p2_fix               0.7\n",
              "price_p3_fix               0.7"
            ]
          },
          "metadata": {
            "tags": []
          },
          "execution_count": 16
        }
      ]
    },
    {
      "cell_type": "code",
      "metadata": {
        "colab": {
          "base_uri": "https://localhost:8080/",
          "height": 340
        },
        "id": "imnuvcRueURN",
        "outputId": "a00ad53f-659f-4d9e-a125-616f4abf8cf5"
      },
      "source": [
        "#Now visually\r\n",
        "\r\n",
        "sns.heatmap(df_hist.isna(),yticklabels=False)"
      ],
      "execution_count": 72,
      "outputs": [
        {
          "output_type": "execute_result",
          "data": {
            "text/plain": [
              "<matplotlib.axes._subplots.AxesSubplot at 0x7f7cef08fdd8>"
            ]
          },
          "metadata": {
            "tags": []
          },
          "execution_count": 72
        },
        {
          "output_type": "display_data",
          "data": {
            "image/png": "[encoded data removed]",
            "text/plain": [
              "<Figure size 432x288 with 2 Axes>"
            ]
          },
          "metadata": {
            "tags": []
          }
        }
      ]
    },
    {
      "cell_type": "markdown",
      "metadata": {
        "id": "Xd6vt-PDtEM7"
      },
      "source": [
        "The amount of missing data is really short in the historical data set. In case we need we can impute missing values with mean or median."
      ]
    },
    {
      "cell_type": "markdown",
      "metadata": {
        "id": "ue7yGI19et2g"
      },
      "source": [
        "# Data Visualization"
      ]
    },
    {
      "cell_type": "markdown",
      "metadata": {
        "id": "FyqX8o8ifJf7"
      },
      "source": [
        "## Categorical Features\r\n",
        "\r\n",
        "Let's explore how churn behave in general with categorical data"
      ]
    },
    {
      "cell_type": "code",
      "metadata": {
        "colab": {
          "base_uri": "https://localhost:8080/",
          "height": 493
        },
        "id": "8By6A3s6kR7K",
        "outputId": "3ac5e6eb-f8d8-46df-8223-d2e5f1bfbbb9"
      },
      "source": [
        "fig, ax = plt.subplots(figsize = (7,7))\r\n",
        "print(round(df_customer.churn.value_counts()/len(df_customer)*100),2)\r\n",
        "sns.countplot(x='churn',data=df_customer)\r\n",
        "plt.show()"
      ],
      "execution_count": 71,
      "outputs": [
        {
          "output_type": "stream",
          "text": [
            "0    90.0\n",
            "1    10.0\n",
            "Name: churn, dtype: float64 2\n"
          ],
          "name": "stdout"
        },
        {
          "output_type": "display_data",
          "data": {
            "image/png": "[encoded data removed]",
            "text/plain": [
              "<Figure size 504x504 with 1 Axes>"
            ]
          },
          "metadata": {
            "tags": []
          }
        }
      ]
    },
    {
      "cell_type": "markdown",
      "metadata": {
        "id": "SwbCkwQYE7IF"
      },
      "source": [
        "At first glimpse, 90% of the customers have retention, while 10% decide to move to a different company."
      ]
    },
    {
      "cell_type": "markdown",
      "metadata": {
        "id": "UKNCoTuRRbj5"
      },
      "source": [
        "Now, we are going to explore the acivity "
      ]
    },
    {
      "cell_type": "code",
      "metadata": {
        "colab": {
          "base_uri": "https://localhost:8080/",
          "height": 359
        },
        "id": "rPpKZfy-K0sM",
        "outputId": "ffdbab98-b2e4-44a1-e6ae-94693ec2734d"
      },
      "source": [
        "activity=df_customer.groupby(['activity_new','churn'])['id'].count()\r\n",
        "activity2=activity.unstack(level=1).fillna(0).reset_index()\r\n",
        "activity2['total_companies']=activity2[0]+activity2[1]\r\n",
        "activity2['total_churn(%)']=(activity2[1]/activity2['total_companies']*100)\r\n",
        "activity2.sort_values(by='total_churn(%)',ascending=False).head(10)\r\n",
        "#sns.countplot(x='activity_new',data=df_customer,hue='churn')"
      ],
      "execution_count": 19,
      "outputs": [
        {
          "output_type": "execute_result",
          "data": {
            "text/html": [
              "<div>\n",
              "<style scoped>\n",
              "    .dataframe tbody tr th:only-of-type {\n",
              "        vertical-align: middle;\n",
              "    }\n",
              "\n",
              "    .dataframe tbody tr th {\n",
              "        vertical-align: top;\n",
              "    }\n",
              "\n",
              "    .dataframe thead th {\n",
              "        text-align: right;\n",
              "    }\n",
              "</style>\n",
              "<table border=\"1\" class=\"dataframe\">\n",
              "  <thead>\n",
              "    <tr style=\"text-align: right;\">\n",
              "      <th>churn</th>\n",
              "      <th>activity_new</th>\n",
              "      <th>0</th>\n",
              "      <th>1</th>\n",
              "      <th>total_companies</th>\n",
              "      <th>total_churn(%)</th>\n",
              "    </tr>\n",
              "  </thead>\n",
              "  <tbody>\n",
              "    <tr>\n",
              "      <th>370</th>\n",
              "      <td>wceaopxmdpccxfmcdpopulcaubcxibuw</td>\n",
              "      <td>0.0</td>\n",
              "      <td>1.0</td>\n",
              "      <td>1.0</td>\n",
              "      <td>100.000000</td>\n",
              "    </tr>\n",
              "    <tr>\n",
              "      <th>276</th>\n",
              "      <td>oeacexidmflusdkwuuicmpiaklkxulxm</td>\n",
              "      <td>0.0</td>\n",
              "      <td>1.0</td>\n",
              "      <td>1.0</td>\n",
              "      <td>100.000000</td>\n",
              "    </tr>\n",
              "    <tr>\n",
              "      <th>290</th>\n",
              "      <td>opoiuuwdmxdssidluooopfswlkkkcsxf</td>\n",
              "      <td>0.0</td>\n",
              "      <td>1.0</td>\n",
              "      <td>1.0</td>\n",
              "      <td>100.000000</td>\n",
              "    </tr>\n",
              "    <tr>\n",
              "      <th>415</th>\n",
              "      <td>xwkaesbkfsacseixxksofpddwfkbobki</td>\n",
              "      <td>0.0</td>\n",
              "      <td>1.0</td>\n",
              "      <td>1.0</td>\n",
              "      <td>100.000000</td>\n",
              "    </tr>\n",
              "    <tr>\n",
              "      <th>210</th>\n",
              "      <td>kmlwkmxoocpieebifumobckeafmidpxf</td>\n",
              "      <td>0.0</td>\n",
              "      <td>1.0</td>\n",
              "      <td>1.0</td>\n",
              "      <td>100.000000</td>\n",
              "    </tr>\n",
              "    <tr>\n",
              "      <th>173</th>\n",
              "      <td>ikiucmkuisupefxcxfxxulkpwssppfuo</td>\n",
              "      <td>0.0</td>\n",
              "      <td>1.0</td>\n",
              "      <td>1.0</td>\n",
              "      <td>100.000000</td>\n",
              "    </tr>\n",
              "    <tr>\n",
              "      <th>381</th>\n",
              "      <td>wkwdccuiboaeaalcaawlwmldiwmpewma</td>\n",
              "      <td>0.0</td>\n",
              "      <td>1.0</td>\n",
              "      <td>1.0</td>\n",
              "      <td>100.000000</td>\n",
              "    </tr>\n",
              "    <tr>\n",
              "      <th>298</th>\n",
              "      <td>pfcocskbxlmofswiflsbcefcpufbopuo</td>\n",
              "      <td>0.0</td>\n",
              "      <td>2.0</td>\n",
              "      <td>2.0</td>\n",
              "      <td>100.000000</td>\n",
              "    </tr>\n",
              "    <tr>\n",
              "      <th>80</th>\n",
              "      <td>cwouwoubfifoafkxifokoidcuoamebea</td>\n",
              "      <td>1.0</td>\n",
              "      <td>2.0</td>\n",
              "      <td>3.0</td>\n",
              "      <td>66.666667</td>\n",
              "    </tr>\n",
              "    <tr>\n",
              "      <th>362</th>\n",
              "      <td>upwbxpxmkkbicbamfusaxdloflofisii</td>\n",
              "      <td>1.0</td>\n",
              "      <td>1.0</td>\n",
              "      <td>2.0</td>\n",
              "      <td>50.000000</td>\n",
              "    </tr>\n",
              "  </tbody>\n",
              "</table>\n",
              "</div>"
            ],
            "text/plain": [
              "churn                      activity_new    0  ...  total_companies  total_churn(%)\n",
              "370    wceaopxmdpccxfmcdpopulcaubcxibuw  0.0  ...              1.0      100.000000\n",
              "276    oeacexidmflusdkwuuicmpiaklkxulxm  0.0  ...              1.0      100.000000\n",
              "290    opoiuuwdmxdssidluooopfswlkkkcsxf  0.0  ...              1.0      100.000000\n",
              "415    xwkaesbkfsacseixxksofpddwfkbobki  0.0  ...              1.0      100.000000\n",
              "210    kmlwkmxoocpieebifumobckeafmidpxf  0.0  ...              1.0      100.000000\n",
              "173    ikiucmkuisupefxcxfxxulkpwssppfuo  0.0  ...              1.0      100.000000\n",
              "381    wkwdccuiboaeaalcaawlwmldiwmpewma  0.0  ...              1.0      100.000000\n",
              "298    pfcocskbxlmofswiflsbcefcpufbopuo  0.0  ...              2.0      100.000000\n",
              "80     cwouwoubfifoafkxifokoidcuoamebea  1.0  ...              3.0       66.666667\n",
              "362    upwbxpxmkkbicbamfusaxdloflofisii  1.0  ...              2.0       50.000000\n",
              "\n",
              "[10 rows x 5 columns]"
            ]
          },
          "metadata": {
            "tags": []
          },
          "execution_count": 19
        }
      ]
    },
    {
      "cell_type": "code",
      "metadata": {
        "colab": {
          "base_uri": "https://localhost:8080/",
          "height": 359
        },
        "id": "sdufrxO2Rv3D",
        "outputId": "71d59dd4-1335-4e3d-bd38-1e1b9c1e347a"
      },
      "source": [
        "activity2.sort_values(by=['total_companies'],ascending=False).head(10)"
      ],
      "execution_count": 20,
      "outputs": [
        {
          "output_type": "execute_result",
          "data": {
            "text/html": [
              "<div>\n",
              "<style scoped>\n",
              "    .dataframe tbody tr th:only-of-type {\n",
              "        vertical-align: middle;\n",
              "    }\n",
              "\n",
              "    .dataframe tbody tr th {\n",
              "        vertical-align: top;\n",
              "    }\n",
              "\n",
              "    .dataframe thead th {\n",
              "        text-align: right;\n",
              "    }\n",
              "</style>\n",
              "<table border=\"1\" class=\"dataframe\">\n",
              "  <thead>\n",
              "    <tr style=\"text-align: right;\">\n",
              "      <th>churn</th>\n",
              "      <th>activity_new</th>\n",
              "      <th>0</th>\n",
              "      <th>1</th>\n",
              "      <th>total_companies</th>\n",
              "      <th>total_churn(%)</th>\n",
              "    </tr>\n",
              "  </thead>\n",
              "  <tbody>\n",
              "    <tr>\n",
              "      <th>17</th>\n",
              "      <td>apdekpcbwosbxepsfxclislboipuxpop</td>\n",
              "      <td>1484.0</td>\n",
              "      <td>93.0</td>\n",
              "      <td>1577.0</td>\n",
              "      <td>5.897273</td>\n",
              "    </tr>\n",
              "    <tr>\n",
              "      <th>200</th>\n",
              "      <td>kkklcdamwfafdcfwofuscwfwadblfmce</td>\n",
              "      <td>384.0</td>\n",
              "      <td>38.0</td>\n",
              "      <td>422.0</td>\n",
              "      <td>9.004739</td>\n",
              "    </tr>\n",
              "    <tr>\n",
              "      <th>220</th>\n",
              "      <td>kwuslieomapmswolewpobpplkaooaaew</td>\n",
              "      <td>200.0</td>\n",
              "      <td>30.0</td>\n",
              "      <td>230.0</td>\n",
              "      <td>13.043478</td>\n",
              "    </tr>\n",
              "    <tr>\n",
              "      <th>146</th>\n",
              "      <td>fmwdwsxillemwbbwelxsampiuwwpcdcb</td>\n",
              "      <td>187.0</td>\n",
              "      <td>32.0</td>\n",
              "      <td>219.0</td>\n",
              "      <td>14.611872</td>\n",
              "    </tr>\n",
              "    <tr>\n",
              "      <th>65</th>\n",
              "      <td>ckfxocssowaeipxueikxcmaxdmcduxsa</td>\n",
              "      <td>176.0</td>\n",
              "      <td>13.0</td>\n",
              "      <td>189.0</td>\n",
              "      <td>6.878307</td>\n",
              "    </tr>\n",
              "    <tr>\n",
              "      <th>79</th>\n",
              "      <td>cwofmuicebbcmiaaxufmfimpowpacobu</td>\n",
              "      <td>110.0</td>\n",
              "      <td>12.0</td>\n",
              "      <td>122.0</td>\n",
              "      <td>9.836066</td>\n",
              "    </tr>\n",
              "    <tr>\n",
              "      <th>69</th>\n",
              "      <td>cluecxlameloamldmasudocsbmaoamdw</td>\n",
              "      <td>105.0</td>\n",
              "      <td>14.0</td>\n",
              "      <td>119.0</td>\n",
              "      <td>11.764706</td>\n",
              "    </tr>\n",
              "    <tr>\n",
              "      <th>390</th>\n",
              "      <td>wxemiwkumpibllwklfbcooafckufkdlm</td>\n",
              "      <td>102.0</td>\n",
              "      <td>17.0</td>\n",
              "      <td>119.0</td>\n",
              "      <td>14.285714</td>\n",
              "    </tr>\n",
              "    <tr>\n",
              "      <th>330</th>\n",
              "      <td>sfisfxfcocfpcmckuekokxuseixdaoeu</td>\n",
              "      <td>78.0</td>\n",
              "      <td>5.0</td>\n",
              "      <td>83.0</td>\n",
              "      <td>6.024096</td>\n",
              "    </tr>\n",
              "    <tr>\n",
              "      <th>329</th>\n",
              "      <td>sffadmsbuamddwapeumdfibkmpkdicmc</td>\n",
              "      <td>69.0</td>\n",
              "      <td>6.0</td>\n",
              "      <td>75.0</td>\n",
              "      <td>8.000000</td>\n",
              "    </tr>\n",
              "  </tbody>\n",
              "</table>\n",
              "</div>"
            ],
            "text/plain": [
              "churn                      activity_new  ...  total_churn(%)\n",
              "17     apdekpcbwosbxepsfxclislboipuxpop  ...        5.897273\n",
              "200    kkklcdamwfafdcfwofuscwfwadblfmce  ...        9.004739\n",
              "220    kwuslieomapmswolewpobpplkaooaaew  ...       13.043478\n",
              "146    fmwdwsxillemwbbwelxsampiuwwpcdcb  ...       14.611872\n",
              "65     ckfxocssowaeipxueikxcmaxdmcduxsa  ...        6.878307\n",
              "79     cwofmuicebbcmiaaxufmfimpowpacobu  ...        9.836066\n",
              "69     cluecxlameloamldmasudocsbmaoamdw  ...       11.764706\n",
              "390    wxemiwkumpibllwklfbcooafckufkdlm  ...       14.285714\n",
              "330    sfisfxfcocfpcmckuekokxuseixdaoeu  ...        6.024096\n",
              "329    sffadmsbuamddwapeumdfibkmpkdicmc  ...        8.000000\n",
              "\n",
              "[10 rows x 5 columns]"
            ]
          },
          "metadata": {
            "tags": []
          },
          "execution_count": 20
        }
      ]
    },
    {
      "cell_type": "markdown",
      "metadata": {
        "id": "u28ShQhOK0Bx"
      },
      "source": [
        "From the above, we can conclude that activity doesn't has a clear relation with churn."
      ]
    },
    {
      "cell_type": "markdown",
      "metadata": {
        "id": "BdrPAgvUHKXc"
      },
      "source": [
        "Let's explore the channel sales with churn"
      ]
    },
    {
      "cell_type": "code",
      "metadata": {
        "colab": {
          "base_uri": "https://localhost:8080/",
          "height": 297
        },
        "id": "B4H7o_hHMo9E",
        "outputId": "c5156de3-2817-412f-ff8d-a536db0c4a38"
      },
      "source": [
        "nose=df_customer.groupby(['channel_sales','churn']).size().unstack(fill_value=0)\r\n",
        "nose"
      ],
      "execution_count": 21,
      "outputs": [
        {
          "output_type": "execute_result",
          "data": {
            "text/html": [
              "<div>\n",
              "<style scoped>\n",
              "    .dataframe tbody tr th:only-of-type {\n",
              "        vertical-align: middle;\n",
              "    }\n",
              "\n",
              "    .dataframe tbody tr th {\n",
              "        vertical-align: top;\n",
              "    }\n",
              "\n",
              "    .dataframe thead th {\n",
              "        text-align: right;\n",
              "    }\n",
              "</style>\n",
              "<table border=\"1\" class=\"dataframe\">\n",
              "  <thead>\n",
              "    <tr style=\"text-align: right;\">\n",
              "      <th>churn</th>\n",
              "      <th>0</th>\n",
              "      <th>1</th>\n",
              "    </tr>\n",
              "    <tr>\n",
              "      <th>channel_sales</th>\n",
              "      <th></th>\n",
              "      <th></th>\n",
              "    </tr>\n",
              "  </thead>\n",
              "  <tbody>\n",
              "    <tr>\n",
              "      <th>epumfxlbckeskwekxbiuasklxalciiuu</th>\n",
              "      <td>4</td>\n",
              "      <td>0</td>\n",
              "    </tr>\n",
              "    <tr>\n",
              "      <th>ewpakwlliwisiwduibdlfmalxowmwpci</th>\n",
              "      <td>884</td>\n",
              "      <td>82</td>\n",
              "    </tr>\n",
              "    <tr>\n",
              "      <th>fixdbufsefwooaasfcxdxadsiekoceaa</th>\n",
              "      <td>2</td>\n",
              "      <td>0</td>\n",
              "    </tr>\n",
              "    <tr>\n",
              "      <th>foosdfpfkusacimwkcsosbicdxkicaua</th>\n",
              "      <td>6455</td>\n",
              "      <td>922</td>\n",
              "    </tr>\n",
              "    <tr>\n",
              "      <th>lmkebamcaaclubfxadlmueccxoimlema</th>\n",
              "      <td>1957</td>\n",
              "      <td>116</td>\n",
              "    </tr>\n",
              "    <tr>\n",
              "      <th>sddiedcslfslkckwlfkdpoeeailfpeds</th>\n",
              "      <td>12</td>\n",
              "      <td>0</td>\n",
              "    </tr>\n",
              "    <tr>\n",
              "      <th>usilxuppasemubllopkaafesmlibmsdf</th>\n",
              "      <td>1294</td>\n",
              "      <td>150</td>\n",
              "    </tr>\n",
              "  </tbody>\n",
              "</table>\n",
              "</div>"
            ],
            "text/plain": [
              "churn                                0    1\n",
              "channel_sales                              \n",
              "epumfxlbckeskwekxbiuasklxalciiuu     4    0\n",
              "ewpakwlliwisiwduibdlfmalxowmwpci   884   82\n",
              "fixdbufsefwooaasfcxdxadsiekoceaa     2    0\n",
              "foosdfpfkusacimwkcsosbicdxkicaua  6455  922\n",
              "lmkebamcaaclubfxadlmueccxoimlema  1957  116\n",
              "sddiedcslfslkckwlfkdpoeeailfpeds    12    0\n",
              "usilxuppasemubllopkaafesmlibmsdf  1294  150"
            ]
          },
          "metadata": {
            "tags": []
          },
          "execution_count": 21
        }
      ]
    },
    {
      "cell_type": "code",
      "metadata": {
        "colab": {
          "base_uri": "https://localhost:8080/",
          "height": 297
        },
        "id": "AHJdb2fkN3IA",
        "outputId": "38105fa3-803e-47de-ac5b-56722908a88a"
      },
      "source": [
        "nose=nose.div(nose.sum(axis=1),axis=0)*100\r\n",
        "nose"
      ],
      "execution_count": 22,
      "outputs": [
        {
          "output_type": "execute_result",
          "data": {
            "text/html": [
              "<div>\n",
              "<style scoped>\n",
              "    .dataframe tbody tr th:only-of-type {\n",
              "        vertical-align: middle;\n",
              "    }\n",
              "\n",
              "    .dataframe tbody tr th {\n",
              "        vertical-align: top;\n",
              "    }\n",
              "\n",
              "    .dataframe thead th {\n",
              "        text-align: right;\n",
              "    }\n",
              "</style>\n",
              "<table border=\"1\" class=\"dataframe\">\n",
              "  <thead>\n",
              "    <tr style=\"text-align: right;\">\n",
              "      <th>churn</th>\n",
              "      <th>0</th>\n",
              "      <th>1</th>\n",
              "    </tr>\n",
              "    <tr>\n",
              "      <th>channel_sales</th>\n",
              "      <th></th>\n",
              "      <th></th>\n",
              "    </tr>\n",
              "  </thead>\n",
              "  <tbody>\n",
              "    <tr>\n",
              "      <th>epumfxlbckeskwekxbiuasklxalciiuu</th>\n",
              "      <td>100.000000</td>\n",
              "      <td>0.000000</td>\n",
              "    </tr>\n",
              "    <tr>\n",
              "      <th>ewpakwlliwisiwduibdlfmalxowmwpci</th>\n",
              "      <td>91.511387</td>\n",
              "      <td>8.488613</td>\n",
              "    </tr>\n",
              "    <tr>\n",
              "      <th>fixdbufsefwooaasfcxdxadsiekoceaa</th>\n",
              "      <td>100.000000</td>\n",
              "      <td>0.000000</td>\n",
              "    </tr>\n",
              "    <tr>\n",
              "      <th>foosdfpfkusacimwkcsosbicdxkicaua</th>\n",
              "      <td>87.501694</td>\n",
              "      <td>12.498306</td>\n",
              "    </tr>\n",
              "    <tr>\n",
              "      <th>lmkebamcaaclubfxadlmueccxoimlema</th>\n",
              "      <td>94.404245</td>\n",
              "      <td>5.595755</td>\n",
              "    </tr>\n",
              "    <tr>\n",
              "      <th>sddiedcslfslkckwlfkdpoeeailfpeds</th>\n",
              "      <td>100.000000</td>\n",
              "      <td>0.000000</td>\n",
              "    </tr>\n",
              "    <tr>\n",
              "      <th>usilxuppasemubllopkaafesmlibmsdf</th>\n",
              "      <td>89.612188</td>\n",
              "      <td>10.387812</td>\n",
              "    </tr>\n",
              "  </tbody>\n",
              "</table>\n",
              "</div>"
            ],
            "text/plain": [
              "churn                                      0          1\n",
              "channel_sales                                          \n",
              "epumfxlbckeskwekxbiuasklxalciiuu  100.000000   0.000000\n",
              "ewpakwlliwisiwduibdlfmalxowmwpci   91.511387   8.488613\n",
              "fixdbufsefwooaasfcxdxadsiekoceaa  100.000000   0.000000\n",
              "foosdfpfkusacimwkcsosbicdxkicaua   87.501694  12.498306\n",
              "lmkebamcaaclubfxadlmueccxoimlema   94.404245   5.595755\n",
              "sddiedcslfslkckwlfkdpoeeailfpeds  100.000000   0.000000\n",
              "usilxuppasemubllopkaafesmlibmsdf   89.612188  10.387812"
            ]
          },
          "metadata": {
            "tags": []
          },
          "execution_count": 22
        }
      ]
    },
    {
      "cell_type": "code",
      "metadata": {
        "colab": {
          "base_uri": "https://localhost:8080/",
          "height": 625
        },
        "id": "FD51RPMhOmHr",
        "outputId": "39012210-0f52-4508-d860-e2b2735ddbd0"
      },
      "source": [
        "#fig, ax = plt.subplots(figsize = (7,7))\r\n",
        "nose.plot(kind='bar',stacked=True,figsize=(10,7),)\r\n",
        "plt.show()"
      ],
      "execution_count": 70,
      "outputs": [
        {
          "output_type": "display_data",
          "data": {
            "image/png": "[encoded data removed]",
            "text/plain": [
              "<Figure size 720x504 with 1 Axes>"
            ]
          },
          "metadata": {
            "tags": []
          }
        }
      ]
    },
    {
      "cell_type": "markdown",
      "metadata": {
        "id": "Ml0EXN8HHnzc"
      },
      "source": [
        "We can see that Channel Sales  doesn't have a relation with churn. None of the channel sales provide more than 10% of churn. Also, it's important to mention that in Channel Sales we only have 75% of the data."
      ]
    },
    {
      "cell_type": "markdown",
      "metadata": {
        "id": "Bk6Ob09FO4qe"
      },
      "source": [
        "Type of contract"
      ]
    },
    {
      "cell_type": "code",
      "metadata": {
        "colab": {
          "base_uri": "https://localhost:8080/",
          "height": 460
        },
        "id": "0lDfbvLvNgbV",
        "outputId": "60715ad2-0d35-475e-a26b-8ec1c77d1248"
      },
      "source": [
        "gas=df_customer[['id','churn','has_gas']]\r\n",
        "\r\n",
        "gas=gas.groupby(['has_gas','churn'])['id'].count().unstack()\r\n",
        "\r\n",
        "gas.plot(kind='bar',stacked=True,figsize=(9,7))\r\n",
        "\r\n",
        "plt.xticks(rotation=0)\r\n"
      ],
      "execution_count": 78,
      "outputs": [
        {
          "output_type": "execute_result",
          "data": {
            "text/plain": [
              "(array([0, 1]), <a list of 2 Text major ticklabel objects>)"
            ]
          },
          "metadata": {
            "tags": []
          },
          "execution_count": 78
        },
        {
          "output_type": "display_data",
          "data": {
            "image/png": "[encoded data removed]",
            "text/plain": [
              "<Figure size 648x504 with 1 Axes>"
            ]
          },
          "metadata": {
            "tags": []
          }
        }
      ]
    },
    {
      "cell_type": "code",
      "metadata": {
        "colab": {
          "base_uri": "https://localhost:8080/",
          "height": 142
        },
        "id": "HJ-dS6hYPV_N",
        "outputId": "1ce8d740-f7ae-495b-9d53-c84a41865210"
      },
      "source": [
        "#Same result with percentages\r\n",
        "\r\n",
        "round(gas.div(gas.sum(axis=1),axis=0)*100,2)"
      ],
      "execution_count": 25,
      "outputs": [
        {
          "output_type": "execute_result",
          "data": {
            "text/html": [
              "<div>\n",
              "<style scoped>\n",
              "    .dataframe tbody tr th:only-of-type {\n",
              "        vertical-align: middle;\n",
              "    }\n",
              "\n",
              "    .dataframe tbody tr th {\n",
              "        vertical-align: top;\n",
              "    }\n",
              "\n",
              "    .dataframe thead th {\n",
              "        text-align: right;\n",
              "    }\n",
              "</style>\n",
              "<table border=\"1\" class=\"dataframe\">\n",
              "  <thead>\n",
              "    <tr style=\"text-align: right;\">\n",
              "      <th>churn</th>\n",
              "      <th>0</th>\n",
              "      <th>1</th>\n",
              "    </tr>\n",
              "    <tr>\n",
              "      <th>has_gas</th>\n",
              "      <th></th>\n",
              "      <th></th>\n",
              "    </tr>\n",
              "  </thead>\n",
              "  <tbody>\n",
              "    <tr>\n",
              "      <th>f</th>\n",
              "      <td>89.64</td>\n",
              "      <td>10.36</td>\n",
              "    </tr>\n",
              "    <tr>\n",
              "      <th>t</th>\n",
              "      <td>92.11</td>\n",
              "      <td>7.89</td>\n",
              "    </tr>\n",
              "  </tbody>\n",
              "</table>\n",
              "</div>"
            ],
            "text/plain": [
              "churn        0      1\n",
              "has_gas              \n",
              "f        89.64  10.36\n",
              "t        92.11   7.89"
            ]
          },
          "metadata": {
            "tags": []
          },
          "execution_count": 25
        }
      ]
    },
    {
      "cell_type": "markdown",
      "metadata": {
        "id": "AvXmyFTpO8j0"
      },
      "source": [
        "We can see that customers that have gas dont't provide a great amount of churn. Customers with no gas have more churn, but it's reasonable. "
      ]
    },
    {
      "cell_type": "code",
      "metadata": {
        "colab": {
          "base_uri": "https://localhost:8080/",
          "height": 335
        },
        "id": "i2b9enMHOwHg",
        "outputId": "a435bcdf-1578-437d-a962-fa874fded46d"
      },
      "source": [
        "products=df_customer[['id','nb_prod_act','churn']]\r\n",
        "products=df_customer.groupby(['nb_prod_act','churn'])['id'].count().unstack(fill_value=0)\r\n",
        "products=round(products.div(products.sum(axis=1),axis=0)*100,2)\r\n",
        "products.plot(kind='bar',stacked=True,figsize=(13,5))\r\n",
        "plt.xticks(rotation=0)\r\n",
        "plt.show()"
      ],
      "execution_count": 79,
      "outputs": [
        {
          "output_type": "display_data",
          "data": {
            "image/png": "[encoded data removed]",
            "text/plain": [
              "<Figure size 936x360 with 1 Axes>"
            ]
          },
          "metadata": {
            "tags": []
          }
        }
      ]
    },
    {
      "cell_type": "markdown",
      "metadata": {
        "id": "nbseich8IwFo"
      },
      "source": [
        "## Numeric Features\r\n",
        "\r\n",
        "Now, we are going to explore the numerical features to determine if how churn is related with numeric features"
      ]
    },
    {
      "cell_type": "code",
      "metadata": {
        "id": "LeIjCQQ6Mlee"
      },
      "source": [
        "#Extract numeric features\r\n",
        "\r\n",
        "numeric_features=[x for x in df_customer.columns if df_customer[x].dtype=='float64' or df_customer[x].dtype=='int64' and x!='churn' and x!='nb_prod_act'] "
      ],
      "execution_count": 61,
      "outputs": []
    },
    {
      "cell_type": "code",
      "metadata": {
        "colab": {
          "base_uri": "https://localhost:8080/",
          "height": 0
        },
        "id": "54K0Z6m2J1WI",
        "outputId": "6661601d-1ccf-4aec-9641-a75e20e2c1c2"
      },
      "source": [
        "numeric_features"
      ],
      "execution_count": 62,
      "outputs": [
        {
          "output_type": "execute_result",
          "data": {
            "text/plain": [
              "['cons_12m',\n",
              " 'cons_gas_12m',\n",
              " 'cons_last_month',\n",
              " 'forecast_cons_12m',\n",
              " 'forecast_cons_year',\n",
              " 'forecast_discount_energy',\n",
              " 'forecast_meter_rent_12m',\n",
              " 'forecast_price_energy_p1',\n",
              " 'forecast_price_energy_p2',\n",
              " 'forecast_price_pow_p1',\n",
              " 'imp_cons',\n",
              " 'margin_gross_pow_ele',\n",
              " 'margin_net_pow_ele',\n",
              " 'net_margin',\n",
              " 'num_years_antig',\n",
              " 'pow_max']"
            ]
          },
          "metadata": {
            "tags": []
          },
          "execution_count": 62
        }
      ]
    },
    {
      "cell_type": "code",
      "metadata": {
        "id": "DV4iSuYr2VBg"
      },
      "source": [
        "def plotting_numerical(data,rows,cols,x_list,size,hue):\r\n",
        "  '''Plot numerical data in subplots using Seaborn\r\n",
        "    Parameters\r\n",
        "    --------------\r\n",
        "      data:Data frame with data\r\n",
        "      rows:Number of rows in subplot\r\n",
        "      cols:Number of columns in subplot\r\n",
        "      x_list:List with features names\r\n",
        "      size:Tupple with size of plot\r\n",
        "    \r\n",
        "  '''\r\n",
        "  \r\n",
        "  sns.set_style(\"whitegrid\")\r\n",
        "\r\n",
        "  pos=0\r\n",
        "  f, axes = plt.subplots(nrows=rows, ncols=cols,figsize=size)\r\n",
        "  for i in range(0,rows):\r\n",
        "    for j in range(0,cols):\r\n",
        "      \r\n",
        "      sns.histplot(data=data,ax=axes[i,j],x=x_list[pos],bins=50,hue=hue,multiple=\"stack\")\r\n",
        "      pos+=1\r\n",
        "\r\n",
        "  return(plt.show())"
      ],
      "execution_count": 29,
      "outputs": []
    },
    {
      "cell_type": "code",
      "metadata": {
        "colab": {
          "base_uri": "https://localhost:8080/",
          "height": 1668
        },
        "id": "qjG0fvg2ePIG",
        "outputId": "382fcf30-e5f9-4b86-d998-f40adcd5f6a7"
      },
      "source": [
        "plotting_numerical(df_customer,5,4,numeric_features,(30,35),hue='churn')"
      ],
      "execution_count": 30,
      "outputs": [
        {
          "output_type": "display_data",
          "data": {
            "image/png": "[encoded data removed]",
            "text/plain": [
              "<Figure size 2160x2520 with 20 Axes>"
            ]
          },
          "metadata": {
            "tags": []
          }
        }
      ]
    },
    {
      "cell_type": "markdown",
      "metadata": {
        "id": "dPs8B3FlMf8X"
      },
      "source": [
        "Based on the previous result we can conclude that numeric data is highly skewed to right. The histograms support the initial analysis with percentiles"
      ]
    },
    {
      "cell_type": "markdown",
      "metadata": {
        "id": "D3QmxpPYNPkq"
      },
      "source": [
        "Exploring some correlations"
      ]
    },
    {
      "cell_type": "code",
      "metadata": {
        "colab": {
          "base_uri": "https://localhost:8080/",
          "height": 730
        },
        "id": "Cs5gZ4dkb6n7",
        "outputId": "dd56f8e5-128a-4310-f7e0-9397c666f996"
      },
      "source": [
        "plt.figure(figsize=(15,10))\r\n",
        "sns.heatmap(df_customer[numeric_features].corr(),cmap=\"YlGnBu\")"
      ],
      "execution_count": 31,
      "outputs": [
        {
          "output_type": "execute_result",
          "data": {
            "text/plain": [
              "<matplotlib.axes._subplots.AxesSubplot at 0x7f7cf884acc0>"
            ]
          },
          "metadata": {
            "tags": []
          },
          "execution_count": 31
        },
        {
          "output_type": "display_data",
          "data": {
            "image/png": "[encoded data removed]",
            "text/plain": [
              "<Figure size 1080x720 with 2 Axes>"
            ]
          },
          "metadata": {
            "tags": []
          }
        }
      ]
    },
    {
      "cell_type": "markdown",
      "metadata": {
        "id": "OA4nyyGFhFuy"
      },
      "source": [
        "The heatmap with correlations shows that features of forecast and consumption are highly correlated with themselves"
      ]
    },
    {
      "cell_type": "markdown",
      "metadata": {
        "id": "G1iJDnwXVrTc"
      },
      "source": [
        "Now, we can explore how data is skewed through boxplots"
      ]
    },
    {
      "cell_type": "code",
      "metadata": {
        "id": "IJrSeL4Z8kta"
      },
      "source": [
        "#Create a function to plot boxplots of numeric features\r\n",
        "\r\n",
        "def plotting_boxplots(data,rows,cols,x_list,size):\r\n",
        "  '''Plot numerical data in subplots using Seaborn\r\n",
        "    Parameters\r\n",
        "    --------------\r\n",
        "      data:Data frame with data\r\n",
        "      rows:Number of rows in subplot\r\n",
        "      cols:Number of columns in subplot\r\n",
        "      x_list:List with features names\r\n",
        "      size:Tupple with size of plot\r\n",
        "    \r\n",
        "  '''\r\n",
        "  \r\n",
        "  sns.set_style(\"whitegrid\")\r\n",
        "\r\n",
        "  pos=0\r\n",
        "  f, axes = plt.subplots(nrows=rows, ncols=cols,figsize=size)\r\n",
        "  for i in range(0,rows):\r\n",
        "    for j in range(0,cols):\r\n",
        "      \r\n",
        "      sns.boxplot(data=data,ax=axes[i,j],y=x_list[pos])\r\n",
        "      \r\n",
        "      pos+=1\r\n",
        "\r\n",
        "  return(plt.show())"
      ],
      "execution_count": 60,
      "outputs": []
    },
    {
      "cell_type": "code",
      "metadata": {
        "colab": {
          "base_uri": "https://localhost:8080/",
          "height": 2227
        },
        "id": "aXRLd4yuV4c1",
        "outputId": "18b7f92b-eb28-4fba-a215-0dc0519344c5"
      },
      "source": [
        "plotting_boxplots(df_customer,6,3,numeric_features,(20,35))"
      ],
      "execution_count": 64,
      "outputs": [
        {
          "output_type": "error",
          "ename": "IndexError",
          "evalue": "ignored",
          "traceback": [
            "\u001b[0;31m---------------------------------------------------------------------------\u001b[0m",
            "\u001b[0;31mIndexError\u001b[0m                                Traceback (most recent call last)",
            "\u001b[0;32m<ipython-input-64-628d179ce286>\u001b[0m in \u001b[0;36m<module>\u001b[0;34m()\u001b[0m\n\u001b[0;32m----> 1\u001b[0;31m \u001b[0mplotting_boxplots\u001b[0m\u001b[0;34m(\u001b[0m\u001b[0mdf_customer\u001b[0m\u001b[0;34m,\u001b[0m\u001b[0;36m6\u001b[0m\u001b[0;34m,\u001b[0m\u001b[0;36m3\u001b[0m\u001b[0;34m,\u001b[0m\u001b[0mnumeric_features\u001b[0m\u001b[0;34m,\u001b[0m\u001b[0;34m(\u001b[0m\u001b[0;36m20\u001b[0m\u001b[0;34m,\u001b[0m\u001b[0;36m35\u001b[0m\u001b[0;34m)\u001b[0m\u001b[0;34m)\u001b[0m\u001b[0;34m\u001b[0m\u001b[0;34m\u001b[0m\u001b[0m\n\u001b[0m",
            "\u001b[0;32m<ipython-input-60-1d86026b047c>\u001b[0m in \u001b[0;36mplotting_boxplots\u001b[0;34m(data, rows, cols, x_list, size)\u001b[0m\n\u001b[1;32m     20\u001b[0m     \u001b[0;32mfor\u001b[0m \u001b[0mj\u001b[0m \u001b[0;32min\u001b[0m \u001b[0mrange\u001b[0m\u001b[0;34m(\u001b[0m\u001b[0;36m0\u001b[0m\u001b[0;34m,\u001b[0m\u001b[0mcols\u001b[0m\u001b[0;34m)\u001b[0m\u001b[0;34m:\u001b[0m\u001b[0;34m\u001b[0m\u001b[0;34m\u001b[0m\u001b[0m\n\u001b[1;32m     21\u001b[0m \u001b[0;34m\u001b[0m\u001b[0m\n\u001b[0;32m---> 22\u001b[0;31m       \u001b[0msns\u001b[0m\u001b[0;34m.\u001b[0m\u001b[0mboxplot\u001b[0m\u001b[0;34m(\u001b[0m\u001b[0mdata\u001b[0m\u001b[0;34m=\u001b[0m\u001b[0mdata\u001b[0m\u001b[0;34m,\u001b[0m\u001b[0max\u001b[0m\u001b[0;34m=\u001b[0m\u001b[0maxes\u001b[0m\u001b[0;34m[\u001b[0m\u001b[0mi\u001b[0m\u001b[0;34m,\u001b[0m\u001b[0mj\u001b[0m\u001b[0;34m]\u001b[0m\u001b[0;34m,\u001b[0m\u001b[0my\u001b[0m\u001b[0;34m=\u001b[0m\u001b[0mx_list\u001b[0m\u001b[0;34m[\u001b[0m\u001b[0mpos\u001b[0m\u001b[0;34m]\u001b[0m\u001b[0;34m)\u001b[0m\u001b[0;34m\u001b[0m\u001b[0;34m\u001b[0m\u001b[0m\n\u001b[0m\u001b[1;32m     23\u001b[0m \u001b[0;34m\u001b[0m\u001b[0m\n\u001b[1;32m     24\u001b[0m       \u001b[0mpos\u001b[0m\u001b[0;34m+=\u001b[0m\u001b[0;36m1\u001b[0m\u001b[0;34m\u001b[0m\u001b[0;34m\u001b[0m\u001b[0m\n",
            "\u001b[0;31mIndexError\u001b[0m: list index out of range"
          ]
        },
        {
          "output_type": "display_data",
          "data": {
            "image/png": "[encoded data removed]",
            "text/plain": [
              "<Figure size 1440x2520 with 18 Axes>"
            ]
          },
          "metadata": {
            "tags": []
          }
        }
      ]
    },
    {
      "cell_type": "markdown",
      "metadata": {
        "id": "xq6PKMMmicQD"
      },
      "source": [
        "# Data Cleaning"
      ]
    },
    {
      "cell_type": "markdown",
      "metadata": {
        "id": "qfVtFJtBijBz"
      },
      "source": [
        "## Fixing data types\r\n",
        "\r\n",
        "Based on the previous results, dates are not with the right data type, so we are going to convert dates from text to datetime objects"
      ]
    },
    {
      "cell_type": "code",
      "metadata": {
        "id": "_VO3RlqeBPGh"
      },
      "source": [
        "#Changing datatypes\r\n",
        "\r\n",
        "to_convert=['date_activ','date_end','date_first_activ','date_modif_prod','date_renewal']\r\n",
        "\r\n",
        "for i in to_convert:\r\n",
        "  df_customer[i]=pd.to_datetime(df_customer[i],errors='coerce',format=\"%Y-%m-%d\")\r\n"
      ],
      "execution_count": 32,
      "outputs": []
    },
    {
      "cell_type": "code",
      "metadata": {
        "colab": {
          "base_uri": "https://localhost:8080/",
          "height": 0
        },
        "id": "KM5KhBmOk4lI",
        "outputId": "44e3b871-22cc-4649-fc28-cedf5df78e60"
      },
      "source": [
        "df_customer.date_activ"
      ],
      "execution_count": 33,
      "outputs": [
        {
          "output_type": "execute_result",
          "data": {
            "text/plain": [
              "0       2012-11-07\n",
              "1       2013-06-15\n",
              "2       2009-08-21\n",
              "3       2010-04-16\n",
              "4       2010-03-30\n",
              "           ...    \n",
              "16091   2012-05-24\n",
              "16092   2012-08-27\n",
              "16093   2012-02-08\n",
              "16094   2012-08-30\n",
              "16095   2009-12-18\n",
              "Name: date_activ, Length: 16096, dtype: datetime64[ns]"
            ]
          },
          "metadata": {
            "tags": []
          },
          "execution_count": 33
        }
      ]
    },
    {
      "cell_type": "code",
      "metadata": {
        "colab": {
          "base_uri": "https://localhost:8080/"
        },
        "id": "cu8em28KiZtU",
        "outputId": "b7a9c2fd-7358-42ad-b520-6b7cc125dfdc"
      },
      "source": [
        "#Changing datatypes in historic data\r\n",
        "\r\n",
        "df_hist.columns\r\n",
        "\r\n",
        "df_hist['price_date']=pd.to_datetime(df_hist['price_date'],errors='coerce',format=\"%Y-%m-%d\")\r\n",
        "\r\n",
        "df_hist.price_date"
      ],
      "execution_count": 93,
      "outputs": [
        {
          "output_type": "execute_result",
          "data": {
            "text/plain": [
              "0        2015-01-01\n",
              "1        2015-02-01\n",
              "2        2015-03-01\n",
              "3        2015-04-01\n",
              "4        2015-05-01\n",
              "            ...    \n",
              "192997   2015-08-01\n",
              "192998   2015-09-01\n",
              "192999   2015-10-01\n",
              "193000   2015-11-01\n",
              "193001   2015-12-01\n",
              "Name: price_date, Length: 191643, dtype: datetime64[ns]"
            ]
          },
          "metadata": {
            "tags": []
          },
          "execution_count": 93
        }
      ]
    },
    {
      "cell_type": "markdown",
      "metadata": {
        "id": "NRj8c9UZme6M"
      },
      "source": [
        "## Missing Data\r\n",
        "\r\n",
        "We are going to drop columns that have more than 60% of missing data"
      ]
    },
    {
      "cell_type": "code",
      "metadata": {
        "colab": {
          "base_uri": "https://localhost:8080/",
          "height": 0
        },
        "id": "fgLRnm6bFYE_",
        "outputId": "2c1b3db6-3ab6-43f8-f93c-272c162e6486"
      },
      "source": [
        "#Exploring Missing Values\r\n",
        "\r\n",
        "missing=pd.DataFrame({'% Missing Values':round(df_customer.isna().sum()/len(df_customer)*100,2)})\r\n",
        "missing=missing[missing['% Missing Values']>60]\r\n",
        "to_drop=missing.index.to_list()\r\n",
        "\r\n",
        "df_customer.drop(to_drop,axis=1,inplace=True)\r\n",
        "\r\n",
        "#Checking again\r\n",
        "\r\n",
        "df_customer.columns"
      ],
      "execution_count": 34,
      "outputs": [
        {
          "output_type": "execute_result",
          "data": {
            "text/plain": [
              "Index(['id', 'activity_new', 'channel_sales', 'cons_12m', 'cons_gas_12m',\n",
              "       'cons_last_month', 'date_activ', 'date_end', 'date_modif_prod',\n",
              "       'date_renewal', 'forecast_cons_12m', 'forecast_cons_year',\n",
              "       'forecast_discount_energy', 'forecast_meter_rent_12m',\n",
              "       'forecast_price_energy_p1', 'forecast_price_energy_p2',\n",
              "       'forecast_price_pow_p1', 'has_gas', 'imp_cons', 'margin_gross_pow_ele',\n",
              "       'margin_net_pow_ele', 'nb_prod_act', 'net_margin', 'num_years_antig',\n",
              "       'origin_up', 'pow_max', 'churn'],\n",
              "      dtype='object')"
            ]
          },
          "metadata": {
            "tags": []
          },
          "execution_count": 34
        }
      ]
    },
    {
      "cell_type": "markdown",
      "metadata": {
        "id": "AXgv2romvOfr"
      },
      "source": [
        "Now that we have dropped the columns with missing data, the remaining missing data is very small. We can delete rows with missing values in both datasets. But, we are going ```activy_new``` and ```channel_sales``` because those features have more than 20% of missing data.\r\n",
        "\r\n"
      ]
    },
    {
      "cell_type": "code",
      "metadata": {
        "id": "ZlGU9vTwQqN5"
      },
      "source": [
        "missing=pd.DataFrame({'% Missing Values':round(df_customer.isna().sum()/len(df_customer)*100,2)})\r\n",
        "missing=missing[(missing['% Missing Values']>0)&(missing['% Missing Values']<20)]\r\n",
        "to_drop=missing.index.to_list()\r\n",
        "to_drop\r\n",
        "\r\n",
        "df_customer.dropna(subset=to_drop,inplace=True)"
      ],
      "execution_count": 46,
      "outputs": []
    },
    {
      "cell_type": "code",
      "metadata": {
        "colab": {
          "base_uri": "https://localhost:8080/",
          "height": 0
        },
        "id": "GhY4ussCR6V5",
        "outputId": "a2b11724-9e2b-443d-bf0d-8306aee68330"
      },
      "source": [
        "#Checking new shape of customer dataset\r\n",
        "\r\n",
        "len(df_customer)"
      ],
      "execution_count": 47,
      "outputs": [
        {
          "output_type": "execute_result",
          "data": {
            "text/plain": [
              "15674"
            ]
          },
          "metadata": {
            "tags": []
          },
          "execution_count": 47
        }
      ]
    },
    {
      "cell_type": "code",
      "metadata": {
        "colab": {
          "base_uri": "https://localhost:8080/",
          "height": 0
        },
        "id": "dBkq7rfjSiU9",
        "outputId": "c4b29840-7291-42a4-e201-9dbcc7daf40f"
      },
      "source": [
        "#Now with historic dataset\r\n",
        "\r\n",
        "to_drop=[x for x in df_hist.columns if x!='id' and x!='price_date']\r\n",
        "\r\n",
        "df_hist.dropna(subset=to_drop,inplace=True)\r\n",
        "\r\n",
        "#Checking shape of historic dataset\r\n",
        "\r\n",
        "df_hist.shape"
      ],
      "execution_count": 51,
      "outputs": [
        {
          "output_type": "execute_result",
          "data": {
            "text/plain": [
              "(191643, 8)"
            ]
          },
          "metadata": {
            "tags": []
          },
          "execution_count": 51
        }
      ]
    },
    {
      "cell_type": "markdown",
      "metadata": {
        "id": "_czZ1C4sTsyQ"
      },
      "source": [
        "## Duplicates\r\n",
        "\r\n",
        "We are going to show if customer data has duplicates."
      ]
    },
    {
      "cell_type": "code",
      "metadata": {
        "colab": {
          "base_uri": "https://localhost:8080/",
          "height": 69
        },
        "id": "EcnE-wN0UABs",
        "outputId": "15ae430b-7789-432e-b248-6ff5e28ce21c"
      },
      "source": [
        "df_customer[df_customer.duplicated()]"
      ],
      "execution_count": 67,
      "outputs": [
        {
          "output_type": "execute_result",
          "data": {
            "text/html": [
              "<div>\n",
              "<style scoped>\n",
              "    .dataframe tbody tr th:only-of-type {\n",
              "        vertical-align: middle;\n",
              "    }\n",
              "\n",
              "    .dataframe tbody tr th {\n",
              "        vertical-align: top;\n",
              "    }\n",
              "\n",
              "    .dataframe thead th {\n",
              "        text-align: right;\n",
              "    }\n",
              "</style>\n",
              "<table border=\"1\" class=\"dataframe\">\n",
              "  <thead>\n",
              "    <tr style=\"text-align: right;\">\n",
              "      <th></th>\n",
              "      <th>id</th>\n",
              "      <th>activity_new</th>\n",
              "      <th>channel_sales</th>\n",
              "      <th>cons_12m</th>\n",
              "      <th>cons_gas_12m</th>\n",
              "      <th>cons_last_month</th>\n",
              "      <th>date_activ</th>\n",
              "      <th>date_end</th>\n",
              "      <th>date_modif_prod</th>\n",
              "      <th>date_renewal</th>\n",
              "      <th>forecast_cons_12m</th>\n",
              "      <th>forecast_cons_year</th>\n",
              "      <th>forecast_discount_energy</th>\n",
              "      <th>forecast_meter_rent_12m</th>\n",
              "      <th>forecast_price_energy_p1</th>\n",
              "      <th>forecast_price_energy_p2</th>\n",
              "      <th>forecast_price_pow_p1</th>\n",
              "      <th>has_gas</th>\n",
              "      <th>imp_cons</th>\n",
              "      <th>margin_gross_pow_ele</th>\n",
              "      <th>margin_net_pow_ele</th>\n",
              "      <th>nb_prod_act</th>\n",
              "      <th>net_margin</th>\n",
              "      <th>num_years_antig</th>\n",
              "      <th>origin_up</th>\n",
              "      <th>pow_max</th>\n",
              "      <th>churn</th>\n",
              "    </tr>\n",
              "  </thead>\n",
              "  <tbody>\n",
              "  </tbody>\n",
              "</table>\n",
              "</div>"
            ],
            "text/plain": [
              "Empty DataFrame\n",
              "Columns: [id, activity_new, channel_sales, cons_12m, cons_gas_12m, cons_last_month, date_activ, date_end, date_modif_prod, date_renewal, forecast_cons_12m, forecast_cons_year, forecast_discount_energy, forecast_meter_rent_12m, forecast_price_energy_p1, forecast_price_energy_p2, forecast_price_pow_p1, has_gas, imp_cons, margin_gross_pow_ele, margin_net_pow_ele, nb_prod_act, net_margin, num_years_antig, origin_up, pow_max, churn]\n",
              "Index: []"
            ]
          },
          "metadata": {
            "tags": []
          },
          "execution_count": 67
        }
      ]
    },
    {
      "cell_type": "markdown",
      "metadata": {
        "id": "8BX9dlZCXtRG"
      },
      "source": [
        "As we can see, there's no duplicated data on customer dataset.\r\n",
        "\r\n",
        "For the historic dataset, it's suposed to find duplicated data because of its structure, given that the dataset has data for every customer every month of the year."
      ]
    },
    {
      "cell_type": "markdown",
      "metadata": {
        "id": "K63ppmKRfEZY"
      },
      "source": [
        "## Corrupted Data\r\n",
        "\r\n",
        "We have some negative data in both datasets, let's explore how we can deal with that."
      ]
    },
    {
      "cell_type": "code",
      "metadata": {
        "colab": {
          "base_uri": "https://localhost:8080/",
          "height": 297
        },
        "id": "8OOWCTa6faow",
        "outputId": "846374d8-8ac6-4ca2-ac57-e8db5c20dd1f"
      },
      "source": [
        "df_hist.describe()"
      ],
      "execution_count": 80,
      "outputs": [
        {
          "output_type": "execute_result",
          "data": {
            "text/html": [
              "<div>\n",
              "<style scoped>\n",
              "    .dataframe tbody tr th:only-of-type {\n",
              "        vertical-align: middle;\n",
              "    }\n",
              "\n",
              "    .dataframe tbody tr th {\n",
              "        vertical-align: top;\n",
              "    }\n",
              "\n",
              "    .dataframe thead th {\n",
              "        text-align: right;\n",
              "    }\n",
              "</style>\n",
              "<table border=\"1\" class=\"dataframe\">\n",
              "  <thead>\n",
              "    <tr style=\"text-align: right;\">\n",
              "      <th></th>\n",
              "      <th>price_p1_var</th>\n",
              "      <th>price_p2_var</th>\n",
              "      <th>price_p3_var</th>\n",
              "      <th>price_p1_fix</th>\n",
              "      <th>price_p2_fix</th>\n",
              "      <th>price_p3_fix</th>\n",
              "    </tr>\n",
              "  </thead>\n",
              "  <tbody>\n",
              "    <tr>\n",
              "      <th>count</th>\n",
              "      <td>191643.000000</td>\n",
              "      <td>191643.000000</td>\n",
              "      <td>191643.000000</td>\n",
              "      <td>191643.000000</td>\n",
              "      <td>191643.000000</td>\n",
              "      <td>191643.000000</td>\n",
              "    </tr>\n",
              "    <tr>\n",
              "      <th>mean</th>\n",
              "      <td>0.140991</td>\n",
              "      <td>0.054412</td>\n",
              "      <td>0.030712</td>\n",
              "      <td>43.325546</td>\n",
              "      <td>10.698201</td>\n",
              "      <td>6.455436</td>\n",
              "    </tr>\n",
              "    <tr>\n",
              "      <th>std</th>\n",
              "      <td>0.025117</td>\n",
              "      <td>0.050033</td>\n",
              "      <td>0.036335</td>\n",
              "      <td>5.437952</td>\n",
              "      <td>12.856046</td>\n",
              "      <td>7.782279</td>\n",
              "    </tr>\n",
              "    <tr>\n",
              "      <th>min</th>\n",
              "      <td>0.000000</td>\n",
              "      <td>0.000000</td>\n",
              "      <td>0.000000</td>\n",
              "      <td>-0.177779</td>\n",
              "      <td>-0.097752</td>\n",
              "      <td>-0.065172</td>\n",
              "    </tr>\n",
              "    <tr>\n",
              "      <th>25%</th>\n",
              "      <td>0.125976</td>\n",
              "      <td>0.000000</td>\n",
              "      <td>0.000000</td>\n",
              "      <td>40.728885</td>\n",
              "      <td>0.000000</td>\n",
              "      <td>0.000000</td>\n",
              "    </tr>\n",
              "    <tr>\n",
              "      <th>50%</th>\n",
              "      <td>0.146033</td>\n",
              "      <td>0.085483</td>\n",
              "      <td>0.000000</td>\n",
              "      <td>44.266930</td>\n",
              "      <td>0.000000</td>\n",
              "      <td>0.000000</td>\n",
              "    </tr>\n",
              "    <tr>\n",
              "      <th>75%</th>\n",
              "      <td>0.151635</td>\n",
              "      <td>0.101780</td>\n",
              "      <td>0.072558</td>\n",
              "      <td>44.444710</td>\n",
              "      <td>24.339581</td>\n",
              "      <td>16.226389</td>\n",
              "    </tr>\n",
              "    <tr>\n",
              "      <th>max</th>\n",
              "      <td>0.280700</td>\n",
              "      <td>0.229788</td>\n",
              "      <td>0.114102</td>\n",
              "      <td>59.444710</td>\n",
              "      <td>36.490692</td>\n",
              "      <td>17.458221</td>\n",
              "    </tr>\n",
              "  </tbody>\n",
              "</table>\n",
              "</div>"
            ],
            "text/plain": [
              "        price_p1_var   price_p2_var  ...   price_p2_fix   price_p3_fix\n",
              "count  191643.000000  191643.000000  ...  191643.000000  191643.000000\n",
              "mean        0.140991       0.054412  ...      10.698201       6.455436\n",
              "std         0.025117       0.050033  ...      12.856046       7.782279\n",
              "min         0.000000       0.000000  ...      -0.097752      -0.065172\n",
              "25%         0.125976       0.000000  ...       0.000000       0.000000\n",
              "50%         0.146033       0.085483  ...       0.000000       0.000000\n",
              "75%         0.151635       0.101780  ...      24.339581      16.226389\n",
              "max         0.280700       0.229788  ...      36.490692      17.458221\n",
              "\n",
              "[8 rows x 6 columns]"
            ]
          },
          "metadata": {
            "tags": []
          },
          "execution_count": 80
        }
      ]
    },
    {
      "cell_type": "markdown",
      "metadata": {
        "id": "PC8wZAhWfibP"
      },
      "source": [
        "In the hist data we are going to replae negative data with median.\r\n",
        "\r\n"
      ]
    },
    {
      "cell_type": "code",
      "metadata": {
        "id": "dvlZQgXIftRh"
      },
      "source": [
        "df_hist.loc[df_hist['price_p1_fix']<0,'price_p1_fix']=df_hist.price_p1_fix.median()\r\n",
        "df_hist.loc[df_hist['price_p2_fix']<0,'price_p2_fix']=df_hist.price_p2_fix.median()"
      ],
      "execution_count": 88,
      "outputs": []
    },
    {
      "cell_type": "code",
      "metadata": {
        "id": "uEdYs2VXgk21"
      },
      "source": [
        ""
      ],
      "execution_count": null,
      "outputs": []
    }
  ]
}