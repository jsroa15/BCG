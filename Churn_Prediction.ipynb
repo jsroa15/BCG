{
  "nbformat": 4,
  "nbformat_minor": 0,
  "metadata": {
    "colab": {
      "name": "Churn Prediction.ipynb",
      "provenance": [],
      "collapsed_sections": [],
      "toc_visible": true,
      "mount_file_id": "1Iwkw2bzK61t4Hul9RJmTtDJT9G2e3mf4",
      "authorship_tag": "ABX9TyOhpPI6eBkPNuU09t63udPh",
      "include_colab_link": true
    },
    "kernelspec": {
      "name": "python3",
      "display_name": "Python 3"
    }
  },
  "cells": [
    {
      "cell_type": "markdown",
      "metadata": {
        "id": "view-in-github",
        "colab_type": "text"
      },
      "source": [
        "<a href=\"https://colab.research.google.com/github/jsroa15/BCG/blob/main/Churn_Prediction.ipynb\" target=\"_parent\"><img src=\"https://colab.research.google.com/assets/colab-badge.svg\" alt=\"Open In Colab\"/></a>"
      ]
    },
    {
      "cell_type": "markdown",
      "metadata": {
        "id": "cOe0kL_XidXF"
      },
      "source": [
        "# **Churn prediction: Model and Evaluation**"
      ]
    },
    {
      "cell_type": "markdown",
      "metadata": {
        "id": "NJQXYma1Okit"
      },
      "source": [
        "# **Importing packages and modules**"
      ]
    },
    {
      "cell_type": "code",
      "metadata": {
        "id": "ZDBRApilOcep"
      },
      "source": [
        "#Necesary importings\r\n",
        "\r\n",
        "import pandas as pd\r\n",
        "import numpy as np\r\n",
        "import matplotlib.pyplot as plt\r\n",
        "import seaborn as sns\r\n",
        "\r\n",
        "#Machine learning models\r\n",
        "\r\n",
        "from sklearn.linear_model import LogisticRegression\r\n",
        "from sklearn.tree import DecisionTreeClassifier\r\n",
        "from sklearn.ensemble import VotingClassifier\r\n",
        "from sklearn.ensemble import BaggingClassifier\r\n",
        "from sklearn.ensemble import RandomForestClassifier\r\n",
        "from sklearn.ensemble import AdaBoostClassifier\r\n",
        "from sklearn.ensemble import GradientBoostingClassifier\r\n",
        "from sklearn.svm import SVC\r\n",
        "from xgboost import XGBClassifier\r\n",
        "import xgboost as xgb\r\n",
        "from sklearn.naive_bayes import GaussianNB\r\n",
        "\r\n",
        "#Machine learning utilities\r\n",
        "from sklearn.preprocessing import StandardScaler\r\n",
        "from sklearn.model_selection import train_test_split \r\n",
        "from sklearn.model_selection import GridSearchCV\r\n",
        "from sklearn.model_selection import cross_val_score\r\n",
        "from sklearn.model_selection import RandomizedSearchCV\r\n",
        "from sklearn.metrics import classification_report\r\n",
        "from sklearn.metrics import accuracy_score\r\n",
        "from sklearn.metrics import precision_score\r\n",
        "from sklearn.metrics import recall_score\r\n",
        "from sklearn.metrics import f1_score\r\n",
        "from sklearn.metrics import confusion_matrix\r\n",
        "from sklearn.metrics import roc_auc_score"
      ],
      "execution_count": 1,
      "outputs": []
    },
    {
      "cell_type": "markdown",
      "metadata": {
        "id": "8VDsLRyaO9KJ"
      },
      "source": [
        "# **Loading data**\r\n"
      ]
    },
    {
      "cell_type": "code",
      "metadata": {
        "id": "ZwSe1n4oPGl6"
      },
      "source": [
        "X_train=pd.read_csv('/content/drive/MyDrive/Colab Notebooks/BCG/X_train.csv')\r\n",
        "X_test=pd.read_csv('/content/drive/MyDrive/Colab Notebooks/BCG/X_test.csv')\r\n",
        "y_train=pd.read_csv('/content/drive/MyDrive/Colab Notebooks/BCG/y_train.csv')\r\n",
        "y_test=pd.read_csv('/content/drive/MyDrive/Colab Notebooks/BCG/y_test.csv')\r\n",
        "\r\n"
      ],
      "execution_count": 2,
      "outputs": []
    },
    {
      "cell_type": "markdown",
      "metadata": {
        "id": "iWsoN-IuQFXi"
      },
      "source": [
        "In the previous EDA we discovered that original data is unbalanced. We have 90% of customers with retention and only 10% of customers with churn.\r\n",
        "\r\n",
        "Based on that input, we are going to balance the data with synthetic samples."
      ]
    },
    {
      "cell_type": "code",
      "metadata": {
        "colab": {
          "base_uri": "https://localhost:8080/"
        },
        "id": "tSHUm0KBQlR7",
        "outputId": "5c28b1ad-60d5-4071-cceb-1bd18e7e8d2f"
      },
      "source": [
        "#Fixing issue with unbalanced data. Generation of synthetic samples\r\n",
        "\r\n",
        "#Methodology based on: https://towardsdatascience.com/methods-for-dealing-with-imbalanced-data-5b761be45a18\r\n",
        "\r\n",
        "\r\n",
        "from imblearn.over_sampling import SMOTE\r\n",
        "\r\n",
        "sm = SMOTE(random_state=123, ratio=1)\r\n",
        "X_train_smote, y_train_smote = sm.fit_sample(X_train, y_train)\r\n",
        "\r\n",
        "#X_train_smote=pd.DataFrame(X_train_smote,columns=X_train.columns)\r\n",
        "#y_train_smote=pd.DataFrame(y_train_smote,columns=y_train.columns)\r\n",
        "\r\n",
        "X_train=X_train.values\r\n",
        "y_train=y_train.values.ravel()\r\n",
        "X_test=X_test.values\r\n",
        "y_test=y_test.values.ravel()"
      ],
      "execution_count": 3,
      "outputs": [
        {
          "output_type": "stream",
          "text": [
            "/usr/local/lib/python3.6/dist-packages/sklearn/externals/six.py:31: FutureWarning: The module is deprecated in version 0.21 and will be removed in version 0.23 since we've dropped support for Python 2.7. Please rely on the official version of six (https://pypi.org/project/six/).\n",
            "  \"(https://pypi.org/project/six/).\", FutureWarning)\n",
            "/usr/local/lib/python3.6/dist-packages/sklearn/utils/deprecation.py:144: FutureWarning: The sklearn.neighbors.base module is  deprecated in version 0.22 and will be removed in version 0.24. The corresponding classes / functions should instead be imported from sklearn.neighbors. Anything that cannot be imported from sklearn.neighbors is now part of the private API.\n",
            "  warnings.warn(message, FutureWarning)\n",
            "/usr/local/lib/python3.6/dist-packages/sklearn/utils/validation.py:760: DataConversionWarning: A column-vector y was passed when a 1d array was expected. Please change the shape of y to (n_samples, ), for example using ravel().\n",
            "  y = column_or_1d(y, warn=True)\n",
            "/usr/local/lib/python3.6/dist-packages/sklearn/utils/deprecation.py:87: FutureWarning: Function safe_indexing is deprecated; safe_indexing is deprecated in version 0.22 and will be removed in version 0.24.\n",
            "  warnings.warn(msg, category=FutureWarning)\n"
          ],
          "name": "stderr"
        }
      ]
    },
    {
      "cell_type": "code",
      "metadata": {
        "colab": {
          "base_uri": "https://localhost:8080/"
        },
        "id": "2PL5u5PEcrhS",
        "outputId": "946101e5-fbce-4a9a-87f3-10d90a3cbb2e"
      },
      "source": [
        "y_train"
      ],
      "execution_count": 4,
      "outputs": [
        {
          "output_type": "execute_result",
          "data": {
            "text/plain": [
              "array([0, 0, 0, ..., 0, 0, 0])"
            ]
          },
          "metadata": {
            "tags": []
          },
          "execution_count": 4
        }
      ]
    },
    {
      "cell_type": "code",
      "metadata": {
        "colab": {
          "base_uri": "https://localhost:8080/"
        },
        "id": "CbjFq1pySoJQ",
        "outputId": "7e1eb067-0ec9-42ab-9793-ef006eb7d429"
      },
      "source": [
        "#Checking\r\n",
        "\r\n",
        "from collections import Counter\r\n",
        "\r\n",
        "print(Counter(y_train)) #Categories on initial y_train\r\n",
        "\r\n",
        "print(Counter(y_train_smote)) #Categories in final y_train"
      ],
      "execution_count": 5,
      "outputs": [
        {
          "output_type": "stream",
          "text": [
            "Counter({0: 11311, 1: 1227})\n",
            "Counter({0: 11311, 1: 11311})\n"
          ],
          "name": "stdout"
        }
      ]
    },
    {
      "cell_type": "markdown",
      "metadata": {
        "id": "vd1AEgJ8ir5t"
      },
      "source": [
        "# **Modeling**"
      ]
    },
    {
      "cell_type": "markdown",
      "metadata": {
        "id": "XegdCbk9iu-N"
      },
      "source": [
        "## **Baseline model: Naive Bayes classifier with unbalanced data**\r\n",
        "\r\n",
        "We are going to create a function to measure the performance of a classification model.\r\n",
        "\r\n",
        "\r\n",
        "\r\n"
      ]
    },
    {
      "cell_type": "code",
      "metadata": {
        "id": "tAbHJzv_i3qK"
      },
      "source": [
        "def baseline_model_performance_classification(model,Xtrain,Ytrain,Xtest,Ytest):\r\n",
        "\r\n",
        "  '''\r\n",
        "  Calculate metrics as Confusion matrix, AUC, Accuracy, Precision, Recall, F1 Score\r\n",
        "\r\n",
        "  **Note**: Before running the function it's necessary to intantiate a classification model\r\n",
        "\r\n",
        "  Parameters\r\n",
        "  ------------------------------\r\n",
        "\r\n",
        "  model: Classification model created prior to apply function.\r\n",
        "  Xtrain: Your X train dataset\r\n",
        "  Ytrain: Your Y train dataset\r\n",
        "  Xtest: Your X test dataset\r\n",
        "  Ytest: Your Y test dataset\r\n",
        "\r\n",
        "  '''\r\n",
        "\r\n",
        "  #Fit the model\r\n",
        "\r\n",
        "  model.fit(Xtrain,Ytrain)\r\n",
        "\r\n",
        "  #Make predictions\r\n",
        "\r\n",
        "  y_pred=model.predict(Xtest)\r\n",
        "  y_pred_proba=model.predict_proba(Xtest)[:,1]\r\n",
        "\r\n",
        "  #Printing Metrics\r\n",
        "\r\n",
        "  print('\\nConfusion Matrix')\r\n",
        "  print(confusion_matrix(Ytest, y_pred))\r\n",
        "\r\n",
        "\r\n",
        "  print('\\nScores')\r\n",
        "  print('------------------------')\r\n",
        "  print('AUC:',np.round(roc_auc_score(Ytest,y_pred_proba)*100,2),'%')\r\n",
        "  print('Accuracy:',np.round(accuracy_score(Ytest,y_pred)*100,2),'%')\r\n",
        "  print('Precision:',np.round(precision_score(Ytest,y_pred)*100,2),'%')\r\n",
        "  print('Recall:',np.round(recall_score(Ytest,y_pred)*100,2),'%')\r\n",
        "  print('F1 score:',np.round(f1_score(Ytest,y_pred)*100,2))\r\n",
        "\r\n"
      ],
      "execution_count": 6,
      "outputs": []
    },
    {
      "cell_type": "code",
      "metadata": {
        "colab": {
          "base_uri": "https://localhost:8080/"
        },
        "id": "6K7b3C50jI1e",
        "outputId": "4ede6eec-6473-4525-e41a-955e77aa5b04"
      },
      "source": [
        "#Call the new function\r\n",
        "\r\n",
        "model=GaussianNB()\r\n",
        "baseline_model_performance_classification(model,X_train,y_train,X_test,y_test)\r\n"
      ],
      "execution_count": 7,
      "outputs": [
        {
          "output_type": "stream",
          "text": [
            "\n",
            "Confusion Matrix\n",
            "[[ 754 2088]\n",
            " [  55  238]]\n",
            "\n",
            "Scores\n",
            "------------------------\n",
            "AUC: 59.5 %\n",
            "Accuracy: 31.64 %\n",
            "Precision: 10.23 %\n",
            "Recall: 81.23 %\n",
            "F1 score: 18.17\n"
          ],
          "name": "stdout"
        }
      ]
    },
    {
      "cell_type": "code",
      "metadata": {
        "colab": {
          "base_uri": "https://localhost:8080/"
        },
        "id": "EfCEtw04MZL1",
        "outputId": "68c4c9b6-69ba-4640-f454-dcf2bbca6c46"
      },
      "source": [
        "#Measure performance with balanced data\r\n",
        "\r\n",
        "model=GaussianNB()\r\n",
        "baseline_model_performance_classification(model,X_train_smote,y_train_smote,X_test,y_test)\r\n"
      ],
      "execution_count": 8,
      "outputs": [
        {
          "output_type": "stream",
          "text": [
            "\n",
            "Confusion Matrix\n",
            "[[ 925 1917]\n",
            " [  67  226]]\n",
            "\n",
            "Scores\n",
            "------------------------\n",
            "AUC: 58.71 %\n",
            "Accuracy: 36.71 %\n",
            "Precision: 10.55 %\n",
            "Recall: 77.13 %\n",
            "F1 score: 18.56\n"
          ],
          "name": "stdout"
        }
      ]
    },
    {
      "cell_type": "markdown",
      "metadata": {
        "id": "aeOVrftrM0dc"
      },
      "source": [
        "From the above we can conclude that when there is balanced data to train the model, metrics like AUC and Accuracy decreased a little bit.\r\n",
        "\r\n",
        "Now let's see how a robust model looks like."
      ]
    },
    {
      "cell_type": "markdown",
      "metadata": {
        "id": "qEENR5Y9NW2J"
      },
      "source": [
        "## **Robust models**"
      ]
    },
    {
      "cell_type": "markdown",
      "metadata": {
        "id": "2wZ5RPfoiaI5"
      },
      "source": [
        "Before moving forward, it's necessary to define the proper metric the evaluate our model. In our case we are going to take ROC AUC metric to compare and assess models.\r\n",
        "\r\n",
        "The following is a function to perform that evaluation with cross validation and validation in test set."
      ]
    },
    {
      "cell_type": "code",
      "metadata": {
        "id": "lD90xqwk20oB"
      },
      "source": [
        "def performance_classification_auc(model_dictionary,Xtrain,ytrain,Xtest,ytest,folds=5):\r\n",
        "  '''\r\n",
        "  Evaluate the performance of classification models via CV. The base metric is ROC AUC score\r\n",
        "\r\n",
        "  Parameters\r\n",
        "  ------------\r\n",
        "    model_dictionary: A dictionary that contains as key the instantiate model and as value the model name\r\n",
        "    Xtrain: The X train dataset\r\n",
        "    ytrain: The y train dataset\r\n",
        "    Xtest: The X test dataset\r\n",
        "    ytest: The y test dataset\r\n",
        "    folds: Number of folds to cross-validate. Default 3\r\n",
        "\r\n",
        "  '''\r\n",
        "  null_list1=[]\r\n",
        "  null_list2=[]\r\n",
        "\r\n",
        "  for key,value in model_dictionary.items():\r\n",
        "    metric=cross_val_score(key,Xtrain,ytrain,cv=folds,scoring='roc_auc')\r\n",
        "    \r\n",
        "    #Store the F1 score from CV\r\n",
        "    metric_mean=round(metric.mean()*100,2)\r\n",
        "\r\n",
        "\r\n",
        "    #Fit and predict\r\n",
        "    key.fit(Xtrain,ytrain)\r\n",
        "    y_pred=key.predict_proba(Xtest)[:,1]\r\n",
        "\r\n",
        "    #Calculate the ROC AUC Score in Test\r\n",
        "    metric_test=round(roc_auc_score(y_test,y_pred)*100,2)\r\n",
        "    null_list1.append(metric_mean)\r\n",
        "    null_list2.append(metric_test)\r\n",
        "\r\n",
        "  index=[x for x in model_dictionary.values()]\r\n",
        "  dff=pd.DataFrame([null_list1,null_list2],index=['ROC AUC Cross Val','ROC AUC Test set']).transpose()\r\n",
        "  dff.index=index\r\n",
        "  print(dff)"
      ],
      "execution_count": 9,
      "outputs": []
    },
    {
      "cell_type": "code",
      "metadata": {
        "colab": {
          "base_uri": "https://localhost:8080/"
        },
        "id": "V0dpiK4p3phw",
        "outputId": "5f3fa4cb-e33a-41d9-d5f8-055a5d18b9bd"
      },
      "source": [
        "xg=XGBClassifier(random_state=123)\r\n",
        "rf=RandomForestClassifier()\r\n",
        "dt=DecisionTreeClassifier(random_state=123)\r\n",
        "gb=GradientBoostingClassifier(random_state=123)\r\n",
        "ad=AdaBoostClassifier(random_state=123)\r\n",
        "\r\n",
        "models={xg:'Xgboost',rf:'Random Forest',dt:'Decision Tree',gb:'GradientBoost',ad:'Adaboosting'}\r\n",
        "\r\n",
        "performance_classification_auc(models,X_train,y_train,X_test,y_test,folds=10)"
      ],
      "execution_count": 10,
      "outputs": [
        {
          "output_type": "stream",
          "text": [
            "               ROC AUC Cross Val  ROC AUC Test set\n",
            "Xgboost                    68.50             67.76\n",
            "Random Forest              68.54             69.94\n",
            "Decision Tree              56.74             58.75\n",
            "GradientBoost              68.22             66.46\n",
            "Adaboosting                65.47             65.58\n"
          ],
          "name": "stdout"
        }
      ]
    },
    {
      "cell_type": "code",
      "metadata": {
        "colab": {
          "base_uri": "https://localhost:8080/"
        },
        "id": "a2MCU8_ga9VK",
        "outputId": "3542fa1a-407c-42ba-caaf-78da80d48d40"
      },
      "source": [
        "%time performance_classification_auc(models,X_train_smote,y_train_smote,X_test,y_test,folds=10)"
      ],
      "execution_count": 11,
      "outputs": [
        {
          "output_type": "stream",
          "text": [
            "               ROC AUC Cross Val  ROC AUC Test set\n",
            "Xgboost                    95.78             66.46\n",
            "Random Forest              98.10             68.72\n",
            "Decision Tree              89.49             57.16\n",
            "GradientBoost              95.68             65.35\n",
            "Adaboosting                94.82             61.81\n",
            "CPU times: user 5min 1s, sys: 188 ms, total: 5min 1s\n",
            "Wall time: 5min 2s\n"
          ],
          "name": "stdout"
        }
      ]
    },
    {
      "cell_type": "markdown",
      "metadata": {
        "id": "7a5mEaHXhB9c"
      },
      "source": [
        "From the above,we can see that classifiers that were trained with unbalanced data present difficulties to classify the customer.\r\n",
        "\r\n",
        "On the other hand, classifiers with balanced data have a good performance in CV but have a bad performance in Test set, which shows that giving more data and try to balance it it's not worthy.\r\n",
        "\r\n",
        "The strategy to follow is to make hyper parameter tuning and then use emsemble to improve performance."
      ]
    },
    {
      "cell_type": "markdown",
      "metadata": {
        "id": "6KQuic_ojBna"
      },
      "source": [
        "## **Hyperparameter tuning**\r\n",
        "\r\n",
        "Based on the previous results, the best models are Xgboost and Random Forest.\r\n",
        "\r\n",
        "Let's setup hyperparameters"
      ]
    },
    {
      "cell_type": "markdown",
      "metadata": {
        "id": "7SNN1B-yjsDn"
      },
      "source": [
        "### Random Forest"
      ]
    },
    {
      "cell_type": "code",
      "metadata": {
        "colab": {
          "base_uri": "https://localhost:8080/"
        },
        "id": "ngT3VC9HuNzs",
        "outputId": "c7391c6e-9702-4c5f-e260-0f49c439f083"
      },
      "source": [
        "#Exploring Random Forest parameters\r\n",
        "\r\n",
        "rf.get_params()"
      ],
      "execution_count": 12,
      "outputs": [
        {
          "output_type": "execute_result",
          "data": {
            "text/plain": [
              "{'bootstrap': True,\n",
              " 'ccp_alpha': 0.0,\n",
              " 'class_weight': None,\n",
              " 'criterion': 'gini',\n",
              " 'max_depth': None,\n",
              " 'max_features': 'auto',\n",
              " 'max_leaf_nodes': None,\n",
              " 'max_samples': None,\n",
              " 'min_impurity_decrease': 0.0,\n",
              " 'min_impurity_split': None,\n",
              " 'min_samples_leaf': 1,\n",
              " 'min_samples_split': 2,\n",
              " 'min_weight_fraction_leaf': 0.0,\n",
              " 'n_estimators': 100,\n",
              " 'n_jobs': None,\n",
              " 'oob_score': False,\n",
              " 'random_state': None,\n",
              " 'verbose': 0,\n",
              " 'warm_start': False}"
            ]
          },
          "metadata": {
            "tags": []
          },
          "execution_count": 12
        }
      ]
    },
    {
      "cell_type": "code",
      "metadata": {
        "colab": {
          "base_uri": "https://localhost:8080/"
        },
        "id": "Lg7CBRjxjh_a",
        "outputId": "d3241014-db2a-49fc-8b23-3dfc77f093e9"
      },
      "source": [
        "#Some parameters to evaluate\r\n",
        "\r\n",
        "rf_params={\r\n",
        "  'max_depth':[3,6,9,12],\r\n",
        "  'n_estimators':[100,200,500],\r\n",
        "  'max_features':['log2','auto','sqrt'],\r\n",
        "  'min_samples_leaf':[2,10,30,40],\r\n",
        "  'random_state':[123]\r\n",
        "}\r\n",
        "\r\n",
        "rf_cv=RandomizedSearchCV(rf,rf_params,scoring='roc_auc',cv=3)\r\n",
        "\r\n",
        "%time rf_cv.fit(X_train,y_train)\r\n"
      ],
      "execution_count": 13,
      "outputs": [
        {
          "output_type": "stream",
          "text": [
            "CPU times: user 1min 33s, sys: 102 ms, total: 1min 33s\n",
            "Wall time: 1min 33s\n"
          ],
          "name": "stdout"
        },
        {
          "output_type": "execute_result",
          "data": {
            "text/plain": [
              "RandomizedSearchCV(cv=3, error_score=nan,\n",
              "                   estimator=RandomForestClassifier(bootstrap=True,\n",
              "                                                    ccp_alpha=0.0,\n",
              "                                                    class_weight=None,\n",
              "                                                    criterion='gini',\n",
              "                                                    max_depth=None,\n",
              "                                                    max_features='auto',\n",
              "                                                    max_leaf_nodes=None,\n",
              "                                                    max_samples=None,\n",
              "                                                    min_impurity_decrease=0.0,\n",
              "                                                    min_impurity_split=None,\n",
              "                                                    min_samples_leaf=1,\n",
              "                                                    min_samples_split=2,\n",
              "                                                    min_weight_fraction_leaf=0.0,\n",
              "                                                    n_estimators=100,\n",
              "                                                    n_jobs...\n",
              "                                                    random_state=None,\n",
              "                                                    verbose=0,\n",
              "                                                    warm_start=False),\n",
              "                   iid='deprecated', n_iter=10, n_jobs=None,\n",
              "                   param_distributions={'max_depth': [3, 6, 9, 12],\n",
              "                                        'max_features': ['log2', 'auto',\n",
              "                                                         'sqrt'],\n",
              "                                        'min_samples_leaf': [2, 10, 30, 40],\n",
              "                                        'n_estimators': [100, 200, 500],\n",
              "                                        'random_state': [123]},\n",
              "                   pre_dispatch='2*n_jobs', random_state=None, refit=True,\n",
              "                   return_train_score=False, scoring='roc_auc', verbose=0)"
            ]
          },
          "metadata": {
            "tags": []
          },
          "execution_count": 13
        }
      ]
    },
    {
      "cell_type": "code",
      "metadata": {
        "colab": {
          "base_uri": "https://localhost:8080/"
        },
        "id": "9wZhcwJyzhKD",
        "outputId": "88479abc-4ef7-4e61-fa5f-ebc233846997"
      },
      "source": [
        "#Extracting best score of ROC AUC\r\n",
        "\r\n",
        "print('ROC AUC: ',round(rf_cv.best_score_*100,3))"
      ],
      "execution_count": 14,
      "outputs": [
        {
          "output_type": "stream",
          "text": [
            "ROC AUC:  68.972\n"
          ],
          "name": "stdout"
        }
      ]
    },
    {
      "cell_type": "markdown",
      "metadata": {
        "id": "c4cw8FDYQjvH"
      },
      "source": [
        "From the above we can see that the improvement is very small, now we can try the same aproach with balanced dataset.\r\n",
        "\r\n",
        "Due to computational time, this time we are gonna use the Radomized Grid Search"
      ]
    },
    {
      "cell_type": "code",
      "metadata": {
        "colab": {
          "base_uri": "https://localhost:8080/"
        },
        "id": "V6_fbOpKQz7M",
        "outputId": "16ef1210-3ca9-4f45-a6d2-8ed80e80fa82"
      },
      "source": [
        "rf_params={\r\n",
        "  'max_depth':[3,6,9,12],\r\n",
        "  'n_estimators':[100,200,500],\r\n",
        "  'max_features':['log2','auto','sqrt'],\r\n",
        "  'min_samples_leaf':[2,10,30,40],\r\n",
        "  'random_state':[123]\r\n",
        "}\r\n",
        "\r\n",
        "rf_cv_rand=RandomizedSearchCV(rf,rf_params,scoring='roc_auc',cv=3)\r\n",
        "\r\n",
        "%time rf_cv_rand.fit(X_train_smote,y_train_smote)"
      ],
      "execution_count": 15,
      "outputs": [
        {
          "output_type": "stream",
          "text": [
            "CPU times: user 3min 5s, sys: 217 ms, total: 3min 5s\n",
            "Wall time: 3min 6s\n"
          ],
          "name": "stdout"
        },
        {
          "output_type": "execute_result",
          "data": {
            "text/plain": [
              "RandomizedSearchCV(cv=3, error_score=nan,\n",
              "                   estimator=RandomForestClassifier(bootstrap=True,\n",
              "                                                    ccp_alpha=0.0,\n",
              "                                                    class_weight=None,\n",
              "                                                    criterion='gini',\n",
              "                                                    max_depth=None,\n",
              "                                                    max_features='auto',\n",
              "                                                    max_leaf_nodes=None,\n",
              "                                                    max_samples=None,\n",
              "                                                    min_impurity_decrease=0.0,\n",
              "                                                    min_impurity_split=None,\n",
              "                                                    min_samples_leaf=1,\n",
              "                                                    min_samples_split=2,\n",
              "                                                    min_weight_fraction_leaf=0.0,\n",
              "                                                    n_estimators=100,\n",
              "                                                    n_jobs...\n",
              "                                                    random_state=None,\n",
              "                                                    verbose=0,\n",
              "                                                    warm_start=False),\n",
              "                   iid='deprecated', n_iter=10, n_jobs=None,\n",
              "                   param_distributions={'max_depth': [3, 6, 9, 12],\n",
              "                                        'max_features': ['log2', 'auto',\n",
              "                                                         'sqrt'],\n",
              "                                        'min_samples_leaf': [2, 10, 30, 40],\n",
              "                                        'n_estimators': [100, 200, 500],\n",
              "                                        'random_state': [123]},\n",
              "                   pre_dispatch='2*n_jobs', random_state=None, refit=True,\n",
              "                   return_train_score=False, scoring='roc_auc', verbose=0)"
            ]
          },
          "metadata": {
            "tags": []
          },
          "execution_count": 15
        }
      ]
    },
    {
      "cell_type": "code",
      "metadata": {
        "colab": {
          "base_uri": "https://localhost:8080/"
        },
        "id": "tUdJr5dMRjmC",
        "outputId": "96ab0f33-a751-4ff7-f58d-b0cde944ea7f"
      },
      "source": [
        "#Extracting best score of ROC AUC\r\n",
        "\r\n",
        "print('ROC AUC: ',round(rf_cv_rand.best_score_*100,3))"
      ],
      "execution_count": 16,
      "outputs": [
        {
          "output_type": "stream",
          "text": [
            "ROC AUC:  97.108\n"
          ],
          "name": "stdout"
        }
      ]
    },
    {
      "cell_type": "markdown",
      "metadata": {
        "id": "btpcgET_fpy-"
      },
      "source": [
        "### XGBoost Classifier\r\n",
        "\r\n",
        "Now we are going to tune parameters for XGboost"
      ]
    },
    {
      "cell_type": "code",
      "metadata": {
        "colab": {
          "base_uri": "https://localhost:8080/"
        },
        "id": "Waho4oV0fzqz",
        "outputId": "15767bc9-10be-4a23-fe3d-1c097333e5f3"
      },
      "source": [
        "#Extract parameters\r\n",
        "\r\n",
        "xg.get_params()"
      ],
      "execution_count": 17,
      "outputs": [
        {
          "output_type": "execute_result",
          "data": {
            "text/plain": [
              "{'base_score': 0.5,\n",
              " 'booster': 'gbtree',\n",
              " 'colsample_bylevel': 1,\n",
              " 'colsample_bynode': 1,\n",
              " 'colsample_bytree': 1,\n",
              " 'gamma': 0,\n",
              " 'learning_rate': 0.1,\n",
              " 'max_delta_step': 0,\n",
              " 'max_depth': 3,\n",
              " 'min_child_weight': 1,\n",
              " 'missing': None,\n",
              " 'n_estimators': 100,\n",
              " 'n_jobs': 1,\n",
              " 'nthread': None,\n",
              " 'objective': 'binary:logistic',\n",
              " 'random_state': 123,\n",
              " 'reg_alpha': 0,\n",
              " 'reg_lambda': 1,\n",
              " 'scale_pos_weight': 1,\n",
              " 'seed': None,\n",
              " 'silent': None,\n",
              " 'subsample': 1,\n",
              " 'verbosity': 1}"
            ]
          },
          "metadata": {
            "tags": []
          },
          "execution_count": 17
        }
      ]
    },
    {
      "cell_type": "code",
      "metadata": {
        "colab": {
          "base_uri": "https://localhost:8080/"
        },
        "id": "P5TZfQcFgJLf",
        "outputId": "3d53aff1-7b8d-481f-ac8a-a0faf18fdc00"
      },
      "source": [
        "xg_params={\r\n",
        "'min_child_weight': [i for i in np.arange(1,15,1)],\r\n",
        " 'gamma': [i for i in np.arange(0,6,0.5)],\r\n",
        " 'subsample': [i for i in np.linspace(0.3,1,15)],\r\n",
        " 'colsample_bytree': [i for i in np.linspace(0.3,1,15)],\r\n",
        " 'max_depth': [i for i in np.arange(1,15,2)],\r\n",
        " 'scale_pos_weight':[i for i in np.arange(1,15,1)],\r\n",
        " 'learning_rate': [i for i in np.arange(0,0.15,0.01)],\r\n",
        " 'n_estimators' : [i for i in np.arange(0,2000,100)],\r\n",
        " 'colsample_bylevel': [i for i in np.linspace(0.3,1,15)],\r\n",
        " 'colsample_bynode': [i for i in np.linspace(0.3,1,15)],\r\n",
        "\r\n",
        "\r\n",
        "}\r\n",
        "\r\n",
        "xg_cv_rand=RandomizedSearchCV(xg,xg_params,scoring='roc_auc',cv=5)\r\n",
        "\r\n",
        "xg_cv_rand.fit(X_train,y_train)\r\n",
        "\r\n",
        "print('ROC AUC: ',round(xg_cv_rand.best_score_*100,3))\r\n",
        "\r\n"
      ],
      "execution_count": 18,
      "outputs": [
        {
          "output_type": "stream",
          "text": [
            "ROC AUC:  69.463\n"
          ],
          "name": "stdout"
        }
      ]
    },
    {
      "cell_type": "code",
      "metadata": {
        "id": "my5dolxZRKrX"
      },
      "source": [
        "model_xg=xg_cv_rand.best_estimator_\r\n",
        "model_rf=rf_cv.best_estimator_"
      ],
      "execution_count": 19,
      "outputs": []
    },
    {
      "cell_type": "markdown",
      "metadata": {
        "id": "K4KMRZzMQDu5"
      },
      "source": [
        "## Emsembling methods\r\n",
        "\r\n",
        "In order to increase the performance, we are going to use voting classifier.\r\n",
        "\r\n"
      ]
    },
    {
      "cell_type": "code",
      "metadata": {
        "colab": {
          "base_uri": "https://localhost:8080/"
        },
        "id": "uqggSUb9QxhZ",
        "outputId": "f92807df-9cb4-4f15-fad1-ef3832677eb8"
      },
      "source": [
        "# Define the list classifiers\r\n",
        "\r\n",
        "classifiers = [('XGBoost Classifier', model_xg), ('Random Forest',model_rf)]\r\n",
        "\r\n",
        "#Instantiate Voting Classifier\r\n",
        "\r\n",
        "vc = VotingClassifier(estimators=classifiers)\r\n",
        "\r\n",
        "\r\n",
        "vc.fit(X_train, y_train)\r\n",
        "y_pred_vc = vc.predict(X_test)\r\n",
        "\r\n",
        "roc_auc=roc_auc_score(y_test,y_pred_vc)\r\n",
        "\r\n",
        "print(round(roc_auc*100,2))\r\n"
      ],
      "execution_count": 20,
      "outputs": [
        {
          "output_type": "stream",
          "text": [
            "50.51\n"
          ],
          "name": "stdout"
        }
      ]
    },
    {
      "cell_type": "markdown",
      "metadata": {
        "id": "i4cmYuD5cdYB"
      },
      "source": [
        "Voting classifier didn't give a significance improvement. Our Final model will be the Xgboost Classifier. "
      ]
    },
    {
      "cell_type": "code",
      "metadata": {
        "colab": {
          "base_uri": "https://localhost:8080/"
        },
        "id": "8J_4MA8iZAyU",
        "outputId": "029bcca9-b091-4018-b305-970ee9315477"
      },
      "source": [
        "y_pred=model_xg.predict_proba(X_test)[:,1]\r\n",
        "\r\n",
        "roc_auc=roc_auc_score(y_test,y_pred)\r\n",
        "\r\n",
        "print(round(roc_auc*100,2))"
      ],
      "execution_count": 21,
      "outputs": [
        {
          "output_type": "stream",
          "text": [
            "70.22\n"
          ],
          "name": "stdout"
        }
      ]
    },
    {
      "cell_type": "markdown",
      "metadata": {
        "id": "2KfGFYh_WJaJ"
      },
      "source": [
        "# **Final evaluation and conclusions**"
      ]
    },
    {
      "cell_type": "markdown",
      "metadata": {
        "id": "H-skIxyOWTRm"
      },
      "source": [
        "## Feature importance for XGBoost Classifier"
      ]
    },
    {
      "cell_type": "code",
      "metadata": {
        "colab": {
          "base_uri": "https://localhost:8080/",
          "height": 1000
        },
        "id": "csWAh7TdX1Xv",
        "outputId": "62720e90-dbef-4efa-830a-4293db471ed3"
      },
      "source": [
        "#Extracting feature importances for XGBoost Classifier\r\n",
        "\r\n",
        "fi=model_xg.feature_importances_\r\n",
        "\r\n",
        "aux=pd.read_csv('/content/drive/MyDrive/Colab Notebooks/BCG/X_train.csv')\r\n",
        "\r\n",
        "fi=pd.DataFrame(fi,columns=['feature_importance'],index=aux.columns)\r\n",
        "\r\n",
        "fi.sort_values(by='feature_importance',ascending=False)\r\n",
        "\r\n"
      ],
      "execution_count": 22,
      "outputs": [
        {
          "output_type": "execute_result",
          "data": {
            "text/html": [
              "<div>\n",
              "<style scoped>\n",
              "    .dataframe tbody tr th:only-of-type {\n",
              "        vertical-align: middle;\n",
              "    }\n",
              "\n",
              "    .dataframe tbody tr th {\n",
              "        vertical-align: top;\n",
              "    }\n",
              "\n",
              "    .dataframe thead th {\n",
              "        text-align: right;\n",
              "    }\n",
              "</style>\n",
              "<table border=\"1\" class=\"dataframe\">\n",
              "  <thead>\n",
              "    <tr style=\"text-align: right;\">\n",
              "      <th></th>\n",
              "      <th>feature_importance</th>\n",
              "    </tr>\n",
              "  </thead>\n",
              "  <tbody>\n",
              "    <tr>\n",
              "      <th>origin_up_lxidpiddsbxsbosboudacockeimpuepw</th>\n",
              "      <td>0.081669</td>\n",
              "    </tr>\n",
              "    <tr>\n",
              "      <th>origin_up_kamkkxfxxuwbdslkwifmmcsiusiuosws</th>\n",
              "      <td>0.078143</td>\n",
              "    </tr>\n",
              "    <tr>\n",
              "      <th>channel_sales_foosdfpfkusacimwkcsosbicdxkicaua</th>\n",
              "      <td>0.042566</td>\n",
              "    </tr>\n",
              "    <tr>\n",
              "      <th>margin_net_pow_ele</th>\n",
              "      <td>0.036188</td>\n",
              "    </tr>\n",
              "    <tr>\n",
              "      <th>margin_gross_pow_ele</th>\n",
              "      <td>0.032878</td>\n",
              "    </tr>\n",
              "    <tr>\n",
              "      <th>date_end_qtr_Q4</th>\n",
              "      <td>0.032743</td>\n",
              "    </tr>\n",
              "    <tr>\n",
              "      <th>total_cons</th>\n",
              "      <td>0.030357</td>\n",
              "    </tr>\n",
              "    <tr>\n",
              "      <th>channel_sales_lmkebamcaaclubfxadlmueccxoimlema</th>\n",
              "      <td>0.030285</td>\n",
              "    </tr>\n",
              "    <tr>\n",
              "      <th>date_end_qtr_Q3</th>\n",
              "      <td>0.029947</td>\n",
              "    </tr>\n",
              "    <tr>\n",
              "      <th>channel_sales_usilxuppasemubllopkaafesmlibmsdf</th>\n",
              "      <td>0.029790</td>\n",
              "    </tr>\n",
              "    <tr>\n",
              "      <th>cons_last_month</th>\n",
              "      <td>0.028439</td>\n",
              "    </tr>\n",
              "    <tr>\n",
              "      <th>cons_12m</th>\n",
              "      <td>0.028225</td>\n",
              "    </tr>\n",
              "    <tr>\n",
              "      <th>num_years_antig</th>\n",
              "      <td>0.027386</td>\n",
              "    </tr>\n",
              "    <tr>\n",
              "      <th>forecast_meter_rent_12m</th>\n",
              "      <td>0.026089</td>\n",
              "    </tr>\n",
              "    <tr>\n",
              "      <th>tenure</th>\n",
              "      <td>0.025743</td>\n",
              "    </tr>\n",
              "    <tr>\n",
              "      <th>avg_fct_ene</th>\n",
              "      <td>0.025691</td>\n",
              "    </tr>\n",
              "    <tr>\n",
              "      <th>forecast_price_pow_p1</th>\n",
              "      <td>0.025381</td>\n",
              "    </tr>\n",
              "    <tr>\n",
              "      <th>net_margin</th>\n",
              "      <td>0.024687</td>\n",
              "    </tr>\n",
              "    <tr>\n",
              "      <th>forecast_cons_12m</th>\n",
              "      <td>0.024642</td>\n",
              "    </tr>\n",
              "    <tr>\n",
              "      <th>has_gas_t</th>\n",
              "      <td>0.024479</td>\n",
              "    </tr>\n",
              "    <tr>\n",
              "      <th>forecast_price_energy_p1</th>\n",
              "      <td>0.024204</td>\n",
              "    </tr>\n",
              "    <tr>\n",
              "      <th>avg_fct_pow</th>\n",
              "      <td>0.024176</td>\n",
              "    </tr>\n",
              "    <tr>\n",
              "      <th>pow_max</th>\n",
              "      <td>0.024154</td>\n",
              "    </tr>\n",
              "    <tr>\n",
              "      <th>origin_up_ldkssxwpmemidmecebumciepifcamkci</th>\n",
              "      <td>0.023782</td>\n",
              "    </tr>\n",
              "    <tr>\n",
              "      <th>cons_gas_12m</th>\n",
              "      <td>0.023630</td>\n",
              "    </tr>\n",
              "    <tr>\n",
              "      <th>years_mod</th>\n",
              "      <td>0.023033</td>\n",
              "    </tr>\n",
              "    <tr>\n",
              "      <th>date_end_qtr_Q2</th>\n",
              "      <td>0.022582</td>\n",
              "    </tr>\n",
              "    <tr>\n",
              "      <th>nb_prod_act</th>\n",
              "      <td>0.022339</td>\n",
              "    </tr>\n",
              "    <tr>\n",
              "      <th>channel_sales_ewpakwlliwisiwduibdlfmalxowmwpci</th>\n",
              "      <td>0.021776</td>\n",
              "    </tr>\n",
              "    <tr>\n",
              "      <th>forecast_cons_year</th>\n",
              "      <td>0.021632</td>\n",
              "    </tr>\n",
              "    <tr>\n",
              "      <th>forecast_discount_energy</th>\n",
              "      <td>0.021468</td>\n",
              "    </tr>\n",
              "    <tr>\n",
              "      <th>years_end</th>\n",
              "      <td>0.021266</td>\n",
              "    </tr>\n",
              "    <tr>\n",
              "      <th>imp_cons</th>\n",
              "      <td>0.021058</td>\n",
              "    </tr>\n",
              "    <tr>\n",
              "      <th>channel_sales_other</th>\n",
              "      <td>0.019571</td>\n",
              "    </tr>\n",
              "    <tr>\n",
              "      <th>channel_sales_sddiedcslfslkckwlfkdpoeeailfpeds</th>\n",
              "      <td>0.000000</td>\n",
              "    </tr>\n",
              "    <tr>\n",
              "      <th>origin_up_usapbepcfoloekilkwsdiboslwaxobdp</th>\n",
              "      <td>0.000000</td>\n",
              "    </tr>\n",
              "  </tbody>\n",
              "</table>\n",
              "</div>"
            ],
            "text/plain": [
              "                                                feature_importance\n",
              "origin_up_lxidpiddsbxsbosboudacockeimpuepw                0.081669\n",
              "origin_up_kamkkxfxxuwbdslkwifmmcsiusiuosws                0.078143\n",
              "channel_sales_foosdfpfkusacimwkcsosbicdxkicaua            0.042566\n",
              "margin_net_pow_ele                                        0.036188\n",
              "margin_gross_pow_ele                                      0.032878\n",
              "date_end_qtr_Q4                                           0.032743\n",
              "total_cons                                                0.030357\n",
              "channel_sales_lmkebamcaaclubfxadlmueccxoimlema            0.030285\n",
              "date_end_qtr_Q3                                           0.029947\n",
              "channel_sales_usilxuppasemubllopkaafesmlibmsdf            0.029790\n",
              "cons_last_month                                           0.028439\n",
              "cons_12m                                                  0.028225\n",
              "num_years_antig                                           0.027386\n",
              "forecast_meter_rent_12m                                   0.026089\n",
              "tenure                                                    0.025743\n",
              "avg_fct_ene                                               0.025691\n",
              "forecast_price_pow_p1                                     0.025381\n",
              "net_margin                                                0.024687\n",
              "forecast_cons_12m                                         0.024642\n",
              "has_gas_t                                                 0.024479\n",
              "forecast_price_energy_p1                                  0.024204\n",
              "avg_fct_pow                                               0.024176\n",
              "pow_max                                                   0.024154\n",
              "origin_up_ldkssxwpmemidmecebumciepifcamkci                0.023782\n",
              "cons_gas_12m                                              0.023630\n",
              "years_mod                                                 0.023033\n",
              "date_end_qtr_Q2                                           0.022582\n",
              "nb_prod_act                                               0.022339\n",
              "channel_sales_ewpakwlliwisiwduibdlfmalxowmwpci            0.021776\n",
              "forecast_cons_year                                        0.021632\n",
              "forecast_discount_energy                                  0.021468\n",
              "years_end                                                 0.021266\n",
              "imp_cons                                                  0.021058\n",
              "channel_sales_other                                       0.019571\n",
              "channel_sales_sddiedcslfslkckwlfkdpoeeailfpeds            0.000000\n",
              "origin_up_usapbepcfoloekilkwsdiboslwaxobdp                0.000000"
            ]
          },
          "metadata": {
            "tags": []
          },
          "execution_count": 22
        }
      ]
    },
    {
      "cell_type": "code",
      "metadata": {
        "colab": {
          "base_uri": "https://localhost:8080/"
        },
        "id": "6lei0w23UQhB",
        "outputId": "7b867351-90bd-45a1-f567-411a9c1e3c5e"
      },
      "source": [
        "#Model Evaluation\r\n",
        "\r\n",
        "baseline_model_performance_classification(model_xg,X_train,y_train,X_test,y_test)"
      ],
      "execution_count": 23,
      "outputs": [
        {
          "output_type": "stream",
          "text": [
            "\n",
            "Confusion Matrix\n",
            "[[2459  383]\n",
            " [ 167  126]]\n",
            "\n",
            "Scores\n",
            "------------------------\n",
            "AUC: 70.22 %\n",
            "Accuracy: 82.46 %\n",
            "Precision: 24.75 %\n",
            "Recall: 43.0 %\n",
            "F1 score: 31.42\n"
          ],
          "name": "stdout"
        }
      ]
    },
    {
      "cell_type": "code",
      "metadata": {
        "colab": {
          "base_uri": "https://localhost:8080/"
        },
        "id": "VhAyIBbqUaaf",
        "outputId": "85c6d654-ae59-42bb-fac3-c7dc7f9da0ea"
      },
      "source": [
        "y_pred=model_xg.predict_proba(X_test)[:,1]\r\n",
        "y_pred_pro=y_pred>0.65\r\n",
        "print(roc_auc_score(y_test,y_pred))\r\n",
        "print(precision_score(y_test,y_pred_pro))\r\n",
        "print(recall_score(y_test,y_pred_pro))\r\n",
        "print(f1_score(y_test,y_pred_pro))"
      ],
      "execution_count": 24,
      "outputs": [
        {
          "output_type": "stream",
          "text": [
            "0.7021769988447303\n",
            "0.4369747899159664\n",
            "0.17747440273037543\n",
            "0.25242718446601947\n"
          ],
          "name": "stdout"
        }
      ]
    }
  ]
}