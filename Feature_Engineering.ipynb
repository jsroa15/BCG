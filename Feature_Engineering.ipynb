{
  "nbformat": 4,
  "nbformat_minor": 0,
  "metadata": {
    "colab": {
      "name": "Feature Engineering.ipynb",
      "provenance": [],
      "mount_file_id": "1a5ElCmNnT8UrGAGsrBLqsEwzGLEx5nAx",
      "authorship_tag": "ABX9TyN6kh+qUPHLpnCJIsuL2Hxx",
      "include_colab_link": true
    },
    "kernelspec": {
      "name": "python3",
      "display_name": "Python 3"
    }
  },
  "cells": [
    {
      "cell_type": "markdown",
      "metadata": {
        "id": "view-in-github",
        "colab_type": "text"
      },
      "source": [
        "<a href=\"https://colab.research.google.com/github/jsroa15/BCG/blob/main/Feature_Engineering.ipynb\" target=\"_parent\"><img src=\"https://colab.research.google.com/assets/colab-badge.svg\" alt=\"Open In Colab\"/></a>"
      ]
    },
    {
      "cell_type": "markdown",
      "metadata": {
        "id": "2ltiHVovYFGO"
      },
      "source": [
        "# **Feature Engineering**\r\n",
        "\r\n",
        "In this section we are going to explore how to create the best features for the churn prediction in PowerCo.\r\n",
        "\r\n",
        "The steps we are going to folow are:\r\n",
        "1.   Create new features (domain knowlodge, grouping, interactions, extracting dates, drop for correlations)       \r\n",
        "2.   Split data into Train and Test\r\n",
        "3.   Outlier detection\r\n",
        "4.   Possible transformations\r\n",
        "8.   Scaling features"
      ]
    },
    {
      "cell_type": "markdown",
      "metadata": {
        "id": "9lkH8XGjaxjh"
      },
      "source": [
        "# **Import modules and load data**"
      ]
    },
    {
      "cell_type": "code",
      "metadata": {
        "id": "qqEBJk26a0zz"
      },
      "source": [
        "#Import modules\r\n",
        "\r\n",
        "import pandas as pd\r\n",
        "import numpy as np\r\n",
        "import matplotlib.pyplot as plt\r\n",
        "import seaborn as sns\r\n",
        "from sklearn.model_selection import train_test_split\r\n",
        "from sklearn.preprocessing import MinMaxScaler\r\n",
        "from sklearn.preprocessing import PowerTransformer\r\n",
        "from sklearn.preprocessing import StandardScaler"
      ],
      "execution_count": 412,
      "outputs": []
    },
    {
      "cell_type": "code",
      "metadata": {
        "id": "As64GYztYAZi"
      },
      "source": [
        "#Load data\r\n",
        "\r\n",
        "df=pd.read_csv('/content/drive/MyDrive/Colab Notebooks/BCG/df_customer.csv')\r\n",
        "hist=pd.read_csv('/content/drive/MyDrive/Colab Notebooks/BCG/df_hist.csv')"
      ],
      "execution_count": 413,
      "outputs": []
    },
    {
      "cell_type": "code",
      "metadata": {
        "id": "U5MFvs6p0Bto"
      },
      "source": [
        "to_convert=['date_activ','date_end','date_modif_prod','date_renewal']\r\n",
        "\r\n",
        "for i in to_convert:\r\n",
        "  df[i]=pd.to_datetime(df[i],errors='coerce',format=\"%Y-%m-%d\")"
      ],
      "execution_count": 414,
      "outputs": []
    },
    {
      "cell_type": "markdown",
      "metadata": {
        "id": "y6bLnaQedQhT"
      },
      "source": [
        "Let's check data before splitting"
      ]
    },
    {
      "cell_type": "code",
      "metadata": {
        "colab": {
          "base_uri": "https://localhost:8080/",
          "height": 309
        },
        "id": "Ti9nsISydWJd",
        "outputId": "bbefdbbb-4a51-4ee4-e6de-fe15c3cca288"
      },
      "source": [
        "df.head()"
      ],
      "execution_count": 415,
      "outputs": [
        {
          "output_type": "execute_result",
          "data": {
            "text/html": [
              "<div>\n",
              "<style scoped>\n",
              "    .dataframe tbody tr th:only-of-type {\n",
              "        vertical-align: middle;\n",
              "    }\n",
              "\n",
              "    .dataframe tbody tr th {\n",
              "        vertical-align: top;\n",
              "    }\n",
              "\n",
              "    .dataframe thead th {\n",
              "        text-align: right;\n",
              "    }\n",
              "</style>\n",
              "<table border=\"1\" class=\"dataframe\">\n",
              "  <thead>\n",
              "    <tr style=\"text-align: right;\">\n",
              "      <th></th>\n",
              "      <th>id</th>\n",
              "      <th>activity_new</th>\n",
              "      <th>channel_sales</th>\n",
              "      <th>cons_12m</th>\n",
              "      <th>cons_gas_12m</th>\n",
              "      <th>cons_last_month</th>\n",
              "      <th>date_activ</th>\n",
              "      <th>date_end</th>\n",
              "      <th>date_modif_prod</th>\n",
              "      <th>date_renewal</th>\n",
              "      <th>forecast_cons_12m</th>\n",
              "      <th>forecast_cons_year</th>\n",
              "      <th>forecast_discount_energy</th>\n",
              "      <th>forecast_meter_rent_12m</th>\n",
              "      <th>forecast_price_energy_p1</th>\n",
              "      <th>forecast_price_energy_p2</th>\n",
              "      <th>forecast_price_pow_p1</th>\n",
              "      <th>has_gas</th>\n",
              "      <th>imp_cons</th>\n",
              "      <th>margin_gross_pow_ele</th>\n",
              "      <th>margin_net_pow_ele</th>\n",
              "      <th>nb_prod_act</th>\n",
              "      <th>net_margin</th>\n",
              "      <th>num_years_antig</th>\n",
              "      <th>origin_up</th>\n",
              "      <th>pow_max</th>\n",
              "      <th>churn</th>\n",
              "    </tr>\n",
              "  </thead>\n",
              "  <tbody>\n",
              "    <tr>\n",
              "      <th>0</th>\n",
              "      <td>48ada52261e7cf58715202705a0451c9</td>\n",
              "      <td>esoiiifxdlbkcsluxmfuacbdckommixw</td>\n",
              "      <td>lmkebamcaaclubfxadlmueccxoimlema</td>\n",
              "      <td>309275</td>\n",
              "      <td>0</td>\n",
              "      <td>10025</td>\n",
              "      <td>2012-11-07</td>\n",
              "      <td>2016-11-06</td>\n",
              "      <td>2012-11-07</td>\n",
              "      <td>2015-11-09</td>\n",
              "      <td>26520.30</td>\n",
              "      <td>10025</td>\n",
              "      <td>0.0</td>\n",
              "      <td>359.29</td>\n",
              "      <td>0.095919</td>\n",
              "      <td>0.088347</td>\n",
              "      <td>58.995952</td>\n",
              "      <td>f</td>\n",
              "      <td>831.80</td>\n",
              "      <td>-41.76</td>\n",
              "      <td>-41.76</td>\n",
              "      <td>1</td>\n",
              "      <td>1732.36</td>\n",
              "      <td>3</td>\n",
              "      <td>ldkssxwpmemidmecebumciepifcamkci</td>\n",
              "      <td>180.000</td>\n",
              "      <td>0</td>\n",
              "    </tr>\n",
              "    <tr>\n",
              "      <th>1</th>\n",
              "      <td>d29c2c54acc38ff3c0614d0a653813dd</td>\n",
              "      <td>NaN</td>\n",
              "      <td>NaN</td>\n",
              "      <td>4660</td>\n",
              "      <td>0</td>\n",
              "      <td>0</td>\n",
              "      <td>2009-08-21</td>\n",
              "      <td>2016-08-30</td>\n",
              "      <td>2009-08-21</td>\n",
              "      <td>2015-08-31</td>\n",
              "      <td>189.95</td>\n",
              "      <td>0</td>\n",
              "      <td>0.0</td>\n",
              "      <td>16.27</td>\n",
              "      <td>0.145711</td>\n",
              "      <td>0.000000</td>\n",
              "      <td>44.311378</td>\n",
              "      <td>f</td>\n",
              "      <td>0.00</td>\n",
              "      <td>16.38</td>\n",
              "      <td>16.38</td>\n",
              "      <td>1</td>\n",
              "      <td>18.89</td>\n",
              "      <td>6</td>\n",
              "      <td>kamkkxfxxuwbdslkwifmmcsiusiuosws</td>\n",
              "      <td>13.800</td>\n",
              "      <td>0</td>\n",
              "    </tr>\n",
              "    <tr>\n",
              "      <th>2</th>\n",
              "      <td>764c75f661154dac3a6c254cd082ea7d</td>\n",
              "      <td>NaN</td>\n",
              "      <td>foosdfpfkusacimwkcsosbicdxkicaua</td>\n",
              "      <td>544</td>\n",
              "      <td>0</td>\n",
              "      <td>0</td>\n",
              "      <td>2010-04-16</td>\n",
              "      <td>2016-04-16</td>\n",
              "      <td>2010-04-16</td>\n",
              "      <td>2015-04-17</td>\n",
              "      <td>47.96</td>\n",
              "      <td>0</td>\n",
              "      <td>0.0</td>\n",
              "      <td>38.72</td>\n",
              "      <td>0.165794</td>\n",
              "      <td>0.087899</td>\n",
              "      <td>44.311378</td>\n",
              "      <td>f</td>\n",
              "      <td>0.00</td>\n",
              "      <td>28.60</td>\n",
              "      <td>28.60</td>\n",
              "      <td>1</td>\n",
              "      <td>6.60</td>\n",
              "      <td>6</td>\n",
              "      <td>kamkkxfxxuwbdslkwifmmcsiusiuosws</td>\n",
              "      <td>13.856</td>\n",
              "      <td>0</td>\n",
              "    </tr>\n",
              "    <tr>\n",
              "      <th>3</th>\n",
              "      <td>bba03439a292a1e166f80264c16191cb</td>\n",
              "      <td>NaN</td>\n",
              "      <td>lmkebamcaaclubfxadlmueccxoimlema</td>\n",
              "      <td>1584</td>\n",
              "      <td>0</td>\n",
              "      <td>0</td>\n",
              "      <td>2010-03-30</td>\n",
              "      <td>2016-03-30</td>\n",
              "      <td>2010-03-30</td>\n",
              "      <td>2015-03-31</td>\n",
              "      <td>240.04</td>\n",
              "      <td>0</td>\n",
              "      <td>0.0</td>\n",
              "      <td>19.83</td>\n",
              "      <td>0.146694</td>\n",
              "      <td>0.000000</td>\n",
              "      <td>44.311378</td>\n",
              "      <td>f</td>\n",
              "      <td>0.00</td>\n",
              "      <td>30.22</td>\n",
              "      <td>30.22</td>\n",
              "      <td>1</td>\n",
              "      <td>25.46</td>\n",
              "      <td>6</td>\n",
              "      <td>kamkkxfxxuwbdslkwifmmcsiusiuosws</td>\n",
              "      <td>13.200</td>\n",
              "      <td>0</td>\n",
              "    </tr>\n",
              "    <tr>\n",
              "      <th>4</th>\n",
              "      <td>568bb38a1afd7c0fc49c77b3789b59a3</td>\n",
              "      <td>sfisfxfcocfpcmckuekokxuseixdaoeu</td>\n",
              "      <td>foosdfpfkusacimwkcsosbicdxkicaua</td>\n",
              "      <td>121335</td>\n",
              "      <td>0</td>\n",
              "      <td>12400</td>\n",
              "      <td>2010-04-08</td>\n",
              "      <td>2016-04-08</td>\n",
              "      <td>2010-04-08</td>\n",
              "      <td>2015-04-12</td>\n",
              "      <td>10865.02</td>\n",
              "      <td>12400</td>\n",
              "      <td>0.0</td>\n",
              "      <td>170.74</td>\n",
              "      <td>0.110083</td>\n",
              "      <td>0.093746</td>\n",
              "      <td>40.606701</td>\n",
              "      <td>f</td>\n",
              "      <td>1052.37</td>\n",
              "      <td>-3.18</td>\n",
              "      <td>-3.18</td>\n",
              "      <td>1</td>\n",
              "      <td>823.18</td>\n",
              "      <td>6</td>\n",
              "      <td>lxidpiddsbxsbosboudacockeimpuepw</td>\n",
              "      <td>75.000</td>\n",
              "      <td>0</td>\n",
              "    </tr>\n",
              "  </tbody>\n",
              "</table>\n",
              "</div>"
            ],
            "text/plain": [
              "                                 id  ... churn\n",
              "0  48ada52261e7cf58715202705a0451c9  ...     0\n",
              "1  d29c2c54acc38ff3c0614d0a653813dd  ...     0\n",
              "2  764c75f661154dac3a6c254cd082ea7d  ...     0\n",
              "3  bba03439a292a1e166f80264c16191cb  ...     0\n",
              "4  568bb38a1afd7c0fc49c77b3789b59a3  ...     0\n",
              "\n",
              "[5 rows x 27 columns]"
            ]
          },
          "metadata": {
            "tags": []
          },
          "execution_count": 415
        }
      ]
    },
    {
      "cell_type": "code",
      "metadata": {
        "colab": {
          "base_uri": "https://localhost:8080/"
        },
        "id": "VxV1X5sYn22V",
        "outputId": "f52de275-465c-4290-b7b6-7bb3b41c894f"
      },
      "source": [
        "df.shape"
      ],
      "execution_count": 416,
      "outputs": [
        {
          "output_type": "execute_result",
          "data": {
            "text/plain": [
              "(15674, 27)"
            ]
          },
          "metadata": {
            "tags": []
          },
          "execution_count": 416
        }
      ]
    },
    {
      "cell_type": "code",
      "metadata": {
        "colab": {
          "base_uri": "https://localhost:8080/",
          "height": 204
        },
        "id": "7ZJ5SwA8dY8m",
        "outputId": "64692cff-c9e5-4b01-8bad-3785d1fb6013"
      },
      "source": [
        "hist.head()"
      ],
      "execution_count": 417,
      "outputs": [
        {
          "output_type": "execute_result",
          "data": {
            "text/html": [
              "<div>\n",
              "<style scoped>\n",
              "    .dataframe tbody tr th:only-of-type {\n",
              "        vertical-align: middle;\n",
              "    }\n",
              "\n",
              "    .dataframe tbody tr th {\n",
              "        vertical-align: top;\n",
              "    }\n",
              "\n",
              "    .dataframe thead th {\n",
              "        text-align: right;\n",
              "    }\n",
              "</style>\n",
              "<table border=\"1\" class=\"dataframe\">\n",
              "  <thead>\n",
              "    <tr style=\"text-align: right;\">\n",
              "      <th></th>\n",
              "      <th>id</th>\n",
              "      <th>price_date</th>\n",
              "      <th>price_p1_var</th>\n",
              "      <th>price_p2_var</th>\n",
              "      <th>price_p3_var</th>\n",
              "      <th>price_p1_fix</th>\n",
              "      <th>price_p2_fix</th>\n",
              "      <th>price_p3_fix</th>\n",
              "    </tr>\n",
              "  </thead>\n",
              "  <tbody>\n",
              "    <tr>\n",
              "      <th>0</th>\n",
              "      <td>038af19179925da21a25619c5a24b745</td>\n",
              "      <td>2015-01-01</td>\n",
              "      <td>0.151367</td>\n",
              "      <td>0.0</td>\n",
              "      <td>0.0</td>\n",
              "      <td>44.266931</td>\n",
              "      <td>0.0</td>\n",
              "      <td>0.0</td>\n",
              "    </tr>\n",
              "    <tr>\n",
              "      <th>1</th>\n",
              "      <td>038af19179925da21a25619c5a24b745</td>\n",
              "      <td>2015-02-01</td>\n",
              "      <td>0.151367</td>\n",
              "      <td>0.0</td>\n",
              "      <td>0.0</td>\n",
              "      <td>44.266931</td>\n",
              "      <td>0.0</td>\n",
              "      <td>0.0</td>\n",
              "    </tr>\n",
              "    <tr>\n",
              "      <th>2</th>\n",
              "      <td>038af19179925da21a25619c5a24b745</td>\n",
              "      <td>2015-03-01</td>\n",
              "      <td>0.151367</td>\n",
              "      <td>0.0</td>\n",
              "      <td>0.0</td>\n",
              "      <td>44.266931</td>\n",
              "      <td>0.0</td>\n",
              "      <td>0.0</td>\n",
              "    </tr>\n",
              "    <tr>\n",
              "      <th>3</th>\n",
              "      <td>038af19179925da21a25619c5a24b745</td>\n",
              "      <td>2015-04-01</td>\n",
              "      <td>0.149626</td>\n",
              "      <td>0.0</td>\n",
              "      <td>0.0</td>\n",
              "      <td>44.266931</td>\n",
              "      <td>0.0</td>\n",
              "      <td>0.0</td>\n",
              "    </tr>\n",
              "    <tr>\n",
              "      <th>4</th>\n",
              "      <td>038af19179925da21a25619c5a24b745</td>\n",
              "      <td>2015-05-01</td>\n",
              "      <td>0.149626</td>\n",
              "      <td>0.0</td>\n",
              "      <td>0.0</td>\n",
              "      <td>44.266931</td>\n",
              "      <td>0.0</td>\n",
              "      <td>0.0</td>\n",
              "    </tr>\n",
              "  </tbody>\n",
              "</table>\n",
              "</div>"
            ],
            "text/plain": [
              "                                 id  price_date  ...  price_p2_fix  price_p3_fix\n",
              "0  038af19179925da21a25619c5a24b745  2015-01-01  ...           0.0           0.0\n",
              "1  038af19179925da21a25619c5a24b745  2015-02-01  ...           0.0           0.0\n",
              "2  038af19179925da21a25619c5a24b745  2015-03-01  ...           0.0           0.0\n",
              "3  038af19179925da21a25619c5a24b745  2015-04-01  ...           0.0           0.0\n",
              "4  038af19179925da21a25619c5a24b745  2015-05-01  ...           0.0           0.0\n",
              "\n",
              "[5 rows x 8 columns]"
            ]
          },
          "metadata": {
            "tags": []
          },
          "execution_count": 417
        }
      ]
    },
    {
      "cell_type": "markdown",
      "metadata": {
        "id": "Hn7Lv58-F_AN"
      },
      "source": [
        "# **1. Create new features**\r\n",
        "\r\n",
        "In this step, we are going to create new features based on our data. Those new features will be a driver to churn prediction.\r\n",
        "\r\n"
      ]
    },
    {
      "cell_type": "markdown",
      "metadata": {
        "id": "gQXd5grFGPFv"
      },
      "source": [
        "## New features with dates"
      ]
    },
    {
      "cell_type": "code",
      "metadata": {
        "colab": {
          "base_uri": "https://localhost:8080/"
        },
        "id": "5ktXJVKnGTYt",
        "outputId": "b956dedf-4a6c-4e53-cc5c-aba3c52b53de"
      },
      "source": [
        "#Proportion of years to end the contract\r\n",
        "\r\n",
        "df['years_end']=(df['date_end']-df['date_renewal'])\r\n",
        "\r\n",
        "df['years_end']=df.years_end.astype('str')\r\n",
        "\r\n",
        "df.years_end=df.years_end.str.split(' ').apply(lambda x: x[0]).astype('int64')/365\r\n",
        "\r\n",
        "#Proportion of years from activation to modification\r\n",
        "\r\n",
        "df['years_mod']=(df['date_modif_prod']-df['date_activ'])\r\n",
        "\r\n",
        "df['years_mod']=df.years_mod.astype('str')\r\n",
        "\r\n",
        "df.years_mod=df.years_mod.str.split(' ').apply(lambda x: x[0]).astype('int64')/365\r\n",
        "\r\n",
        "#Check if new features are Ok\r\n",
        "print(df.years_end.isna().sum())\r\n",
        "print(df.years_mod.isna().sum())"
      ],
      "execution_count": 418,
      "outputs": [
        {
          "output_type": "stream",
          "text": [
            "0\n",
            "0\n"
          ],
          "name": "stdout"
        }
      ]
    },
    {
      "cell_type": "markdown",
      "metadata": {
        "id": "a22b_8RSaWJ5"
      },
      "source": [
        "## New features with consumption and forecast"
      ]
    },
    {
      "cell_type": "code",
      "metadata": {
        "id": "59B1RjrIacZx"
      },
      "source": [
        "#Total consumption (Electricity and Gas)\r\n",
        "\r\n",
        "df['total_cons']=(df['cons_12m']-df['cons_gas_12m'])\r\n",
        "\r\n"
      ],
      "execution_count": 419,
      "outputs": []
    },
    {
      "cell_type": "code",
      "metadata": {
        "id": "4i24SuT8evcA"
      },
      "source": [
        "#Forecasted price energy and pow\r\n",
        "\r\n",
        "group_hist=hist.groupby('id').mean()\r\n",
        "group_hist=group_hist[['price_p3_var','price_p2_fix','price_p3_fix']]\r\n",
        "group_hist.columns=['forecast_price_energy_p3','forecast_price_pow_p2','forecast_price_pow_p3']\r\n",
        "group_hist\r\n",
        "\r\n",
        "#Merge to customer data\r\n",
        "\r\n",
        "df=df.merge(group_hist,on='id')\r\n",
        "\r\n",
        "#Average forecasted energy and power price\r\n",
        "\r\n",
        "df['avg_fct_ene']=(df['forecast_price_energy_p1']+df['forecast_price_energy_p2']+df['forecast_price_energy_p3'])/3\r\n",
        "df['avg_fct_pow']=(df['forecast_price_pow_p1']+df['forecast_price_pow_p2']+df['forecast_price_pow_p3'])/3\r\n",
        "\r\n"
      ],
      "execution_count": 420,
      "outputs": []
    },
    {
      "cell_type": "markdown",
      "metadata": {
        "id": "e2fweGCkkMVC"
      },
      "source": [
        "## Drop features and Correlation\r\n",
        "\r\n",
        "Based on the feature engineering process we just performed, we have to drop some features.\r\n",
        "\r\n",
        "In addition, to improve the future performance of the model, we are  going to drop features whose correlation with themselves are high.\r\n",
        "\r\n"
      ]
    },
    {
      "cell_type": "code",
      "metadata": {
        "id": "K9LGAzw8YWq1"
      },
      "source": [
        "\r\n",
        "#Variables to delete\r\n",
        "\r\n",
        "to_drop=['date_end','date_renewal','date_modif_prod','date_activ','cons_12m','cons_gas_12m','forecast_price_energy_p1','forecast_price_energy_p2','forecast_price_energy_p3',\r\n",
        "         'forecast_price_pow_p1','forecast_price_pow_p2','forecast_price_pow_p3',\r\n",
        "         'forecast_cons_12m','forecast_cons_year','margin_gross_pow_ele']\r\n",
        "\r\n",
        "df.drop(columns=to_drop,index=1,inplace=True)\r\n"
      ],
      "execution_count": 421,
      "outputs": []
    },
    {
      "cell_type": "markdown",
      "metadata": {
        "id": "3XGUIp2IyO4V"
      },
      "source": [
        "## Grouping Categories\r\n",
        "\r\n",
        "Let's explore categorical data and discover how we can handle it."
      ]
    },
    {
      "cell_type": "code",
      "metadata": {
        "colab": {
          "base_uri": "https://localhost:8080/"
        },
        "id": "_ZWSL4leyh-m",
        "outputId": "53cb2d56-84c1-4663-f67b-924ce22c6eb8"
      },
      "source": [
        "#Extract categorical features\r\n",
        "\r\n",
        "categorical=[feature for feature in df.columns if df[feature].dtype =='object' and feature!='id']\r\n",
        "print(categorical)\r\n",
        "\r\n",
        "for i in categorical:\r\n",
        "  print(df[i].value_counts())\r\n",
        "  print('===='*10)"
      ],
      "execution_count": 422,
      "outputs": [
        {
          "output_type": "stream",
          "text": [
            "['activity_new', 'channel_sales', 'has_gas', 'origin_up']\n",
            "apdekpcbwosbxepsfxclislboipuxpop    1528\n",
            "kkklcdamwfafdcfwofuscwfwadblfmce     420\n",
            "kwuslieomapmswolewpobpplkaooaaew     226\n",
            "fmwdwsxillemwbbwelxsampiuwwpcdcb     214\n",
            "ckfxocssowaeipxueikxcmaxdmcduxsa     186\n",
            "                                    ... \n",
            "fxocpcbfplipxiokscwiuexkceoucmko       1\n",
            "kkkmlicifclosfkbxodcmsaweebkolde       1\n",
            "mloxfblllfoxllsffauklsewwfcfdlls       1\n",
            "aplsmkockmiifibukmmmomommebkdpfk       1\n",
            "cwkwaxadbfukekuspislmbipbkxdudla       1\n",
            "Name: activity_new, Length: 417, dtype: int64\n",
            "========================================\n",
            "foosdfpfkusacimwkcsosbicdxkicaua    7113\n",
            "lmkebamcaaclubfxadlmueccxoimlema    2038\n",
            "usilxuppasemubllopkaafesmlibmsdf    1412\n",
            "ewpakwlliwisiwduibdlfmalxowmwpci     943\n",
            "sddiedcslfslkckwlfkdpoeeailfpeds      10\n",
            "epumfxlbckeskwekxbiuasklxalciiuu       4\n",
            "Name: channel_sales, dtype: int64\n",
            "========================================\n",
            "f    12795\n",
            "t     2878\n",
            "Name: has_gas, dtype: int64\n",
            "========================================\n",
            "lxidpiddsbxsbosboudacockeimpuepw    7590\n",
            "kamkkxfxxuwbdslkwifmmcsiusiuosws    4488\n",
            "ldkssxwpmemidmecebumciepifcamkci    3592\n",
            "usapbepcfoloekilkwsdiboslwaxobdp       2\n",
            "ewxeelcelemmiwuafmddpobolfuxioce       1\n",
            "Name: origin_up, dtype: int64\n",
            "========================================\n"
          ],
          "name": "stdout"
        }
      ]
    },
    {
      "cell_type": "code",
      "metadata": {
        "colab": {
          "base_uri": "https://localhost:8080/"
        },
        "id": "eyTlioCj1CMW",
        "outputId": "51d0d883-2fff-4b45-bf7c-2d1516d23c07"
      },
      "source": [
        "df[categorical].isna().sum()"
      ],
      "execution_count": 423,
      "outputs": [
        {
          "output_type": "execute_result",
          "data": {
            "text/plain": [
              "activity_new     9304\n",
              "channel_sales    4153\n",
              "has_gas             0\n",
              "origin_up           0\n",
              "dtype: int64"
            ]
          },
          "metadata": {
            "tags": []
          },
          "execution_count": 423
        }
      ]
    },
    {
      "cell_type": "markdown",
      "metadata": {
        "id": "8xui00lE2R9m"
      },
      "source": [
        "Based on the previuos results we can see that is not necessary to group categorical data. The action we are going to take with feature ```channel_sales``` is to replace missing values with category ```other```"
      ]
    },
    {
      "cell_type": "code",
      "metadata": {
        "id": "tWPZHjX_2uW6"
      },
      "source": [
        "#Replacing NaN in channel_sales with 'other'\r\n",
        "\r\n",
        "df.channel_sales.fillna('other',inplace=True)\r\n"
      ],
      "execution_count": 424,
      "outputs": []
    },
    {
      "cell_type": "markdown",
      "metadata": {
        "id": "XXVceMUs83PL"
      },
      "source": [
        "## Extracting dates\r\n",
        "\r\n",
        "In the previous EDA we saw that dates, months and years don't show that churn has an specific trend, for that reason, we created features based on dates previously."
      ]
    },
    {
      "cell_type": "markdown",
      "metadata": {
        "id": "got3nX6weS-T"
      },
      "source": [
        "# **2. Split data into Train and Test (customer data)**\r\n",
        "\r\n",
        "This is very important to do before any kind of actions with data liker transformations, outlier detection, etc.\r\n",
        "\r\n",
        "Transformations, scaling, outlier detection must be fit or perform in train set and then in test set we should tranform test data based on the results of train data.\r\n",
        "\r\n",
        "Before moving with Splitting we are going to delete the feature ```activity_new``` because it has almost 60% of missing data."
      ]
    },
    {
      "cell_type": "code",
      "metadata": {
        "id": "3vGq7aEIe5on"
      },
      "source": [
        "#Drop activity_new\r\n",
        "\r\n",
        "df.drop(columns='activity_new',inplace=True)"
      ],
      "execution_count": 425,
      "outputs": []
    },
    {
      "cell_type": "markdown",
      "metadata": {
        "id": "7x4NslZbDjYO"
      },
      "source": [
        "## 2.1 Getting dummy features"
      ]
    },
    {
      "cell_type": "code",
      "metadata": {
        "id": "Y097_QovD0vC"
      },
      "source": [
        "X=pd.get_dummies(X,drop_first=True)"
      ],
      "execution_count": 426,
      "outputs": []
    },
    {
      "cell_type": "code",
      "metadata": {
        "id": "xz4OfvnNhW7U"
      },
      "source": [
        "#Split data\r\n",
        "\r\n",
        "features=[x for x in df.columns if x!='id' and x!='churn']\r\n",
        "X=df.loc[:,features]\r\n",
        "\r\n",
        "\r\n",
        "y=df[['churn']]\r\n",
        "\r\n",
        "X_train, X_test, y_train, y_test = train_test_split(X, y, test_size=0.2, random_state=123)"
      ],
      "execution_count": 427,
      "outputs": []
    },
    {
      "cell_type": "markdown",
      "metadata": {
        "id": "Vb1gZ-dQiwQ-"
      },
      "source": [
        "# **3. Outlier detection**\r\n",
        "\r\n",
        "Based on EDA, we saw that almost all the numeric features were quite skwed,so, we have have remove outlier to ensure the best performance while modeling."
      ]
    },
    {
      "cell_type": "code",
      "metadata": {
        "colab": {
          "base_uri": "https://localhost:8080/"
        },
        "id": "urMDLtB2jKvJ",
        "outputId": "e60a4345-b94b-4d94-8a41-9a40ad396436"
      },
      "source": [
        "#Extract numeric features\r\n",
        "\r\n",
        "numeric=[feature for feature in X.columns if X[feature].dtype =='int64' or X[feature].dtype=='float64' ]\r\n",
        "numeric\r\n"
      ],
      "execution_count": 428,
      "outputs": [
        {
          "output_type": "execute_result",
          "data": {
            "text/plain": [
              "['cons_last_month',\n",
              " 'forecast_discount_energy',\n",
              " 'forecast_meter_rent_12m',\n",
              " 'imp_cons',\n",
              " 'margin_net_pow_ele',\n",
              " 'nb_prod_act',\n",
              " 'net_margin',\n",
              " 'num_years_antig',\n",
              " 'pow_max',\n",
              " 'years_end',\n",
              " 'years_mod',\n",
              " 'total_cons',\n",
              " 'avg_fct_ene',\n",
              " 'avg_fct_pow']"
            ]
          },
          "metadata": {
            "tags": []
          },
          "execution_count": 428
        }
      ]
    },
    {
      "cell_type": "markdown",
      "metadata": {
        "id": "Xv0AaG6puODl"
      },
      "source": [
        "We can conclude from the EDA that the variables related to consumption and forecast are highly skewed to the right, for that reason, we are going to calculate thresholds for every numeric feature with percentiles 0.001 and 0.999\r\n",
        "\r\n"
      ]
    },
    {
      "cell_type": "code",
      "metadata": {
        "colab": {
          "base_uri": "https://localhost:8080/"
        },
        "id": "lcc4p5zd7PW0",
        "outputId": "8740946c-d20b-42e3-822f-fad6049e91dd"
      },
      "source": [
        "#Extracting percentiles\r\n",
        "\r\n",
        "lower=[]\r\n",
        "for i in numeric:\r\n",
        "  lower.append(X_train[i].quantile(0.01))\r\n",
        "\r\n",
        "upper=[]\r\n",
        "\r\n",
        "for i in numeric:\r\n",
        "  upper.append(X_train[i].quantile(0.99))\r\n",
        "\r\n",
        "print(lower)\r\n",
        "print(upper)\r\n",
        "\r\n",
        "#Save X shape\r\n",
        "X_shape=X_train.shape\r\n",
        "print(X_shape)  "
      ],
      "execution_count": 429,
      "outputs": [
        {
          "output_type": "stream",
          "text": [
            "[0.0, 0.0, 0.0, 0.0, -15.4578, 1.0, 0.0, 3.0, 10.307400000000001, 0.9616438356164384, 0.0, -240707.18, 0.04610166666666666, 14.77045932]\n",
            "[469210.0, 30.0, 359.25, 1873.6435999999874, 104.8355999999999, 4.0, 1314.1483999999955, 11.0, 100.0, 1.8373424657534225, 9.594520547945205, 3185835.0, 0.12289311143939383, 34.608155466666666]\n",
            "(12538, 17)\n"
          ],
          "name": "stdout"
        }
      ]
    },
    {
      "cell_type": "code",
      "metadata": {
        "colab": {
          "base_uri": "https://localhost:8080/"
        },
        "id": "qXJTq3H1P6HQ",
        "outputId": "894e613f-6816-40dc-f14e-eafacee05886"
      },
      "source": [
        "#Removing outliers\r\n",
        "\r\n",
        "\r\n",
        "for feature,low,up in zip(numeric,lower,upper):\r\n",
        " #print(feature,low,up)\r\n",
        " X_train=X_train[(X_train[feature]<=up)&(X_train[feature]>=low)]\r\n",
        " #print(algo.shape)\r\n",
        "\r\n",
        "#New Shape of X_train\r\n",
        "print(X_train.shape)\r\n",
        "\r\n",
        "index=X_train.index\r\n",
        "print(index)\r\n",
        "\r\n",
        "y_train=y_train.loc[index,:]\r\n",
        "print(y_train.shape)"
      ],
      "execution_count": 430,
      "outputs": [
        {
          "output_type": "stream",
          "text": [
            "(10868, 17)\n",
            "Int64Index([15616,  6073,  7721, 12617, 12413,   747, 11741,  2249,  7777,\n",
            "             5496,\n",
            "            ...\n",
            "             9786, 13436, 14443,  7764, 15378, 14055,  5219,  1347, 11647,\n",
            "             3583],\n",
            "           dtype='int64', length=10868)\n",
            "(10868, 1)\n"
          ],
          "name": "stdout"
        }
      ]
    },
    {
      "cell_type": "markdown",
      "metadata": {
        "id": "S8UtNdo5euzQ"
      },
      "source": [
        "# **4. Possible transformations**\r\n",
        "\r\n",
        "Our data has negative values and we want to have data more Gaussian-like.\r\n",
        "\r\n",
        "In this case, we are going to use the power transformer with scikit learn."
      ]
    },
    {
      "cell_type": "code",
      "metadata": {
        "colab": {
          "base_uri": "https://localhost:8080/"
        },
        "id": "rbWoHaRIvX_J",
        "outputId": "e51278bf-d167-45a2-bbc5-0d5cd95c7abf"
      },
      "source": [
        "#Initialize the transformer\r\n",
        "\r\n",
        "transformer=PowerTransformer()\r\n",
        "\r\n",
        "#Fit the transformer\r\n",
        "\r\n",
        "transformer.fit(X_train[numeric])\r\n",
        "\r\n",
        "#Transform Train and test data\r\n",
        "\r\n",
        "train_numerical_transform=transformer.transform(X_train[numeric])\r\n",
        "test_numerical_transform=transformer.transform(X_test[numeric])\r\n",
        "\r\n",
        "#Replace transform data in original X's data\r\n",
        "\r\n",
        "X_train[numeric]=train_numerical_transform\r\n",
        "X_test[numeric]=test_numerical_transform"
      ],
      "execution_count": 431,
      "outputs": [
        {
          "output_type": "stream",
          "text": [
            "/usr/local/lib/python3.6/dist-packages/ipykernel_launcher.py:17: SettingWithCopyWarning: \n",
            "A value is trying to be set on a copy of a slice from a DataFrame.\n",
            "Try using .loc[row_indexer,col_indexer] = value instead\n",
            "\n",
            "See the caveats in the documentation: https://pandas.pydata.org/pandas-docs/stable/user_guide/indexing.html#returning-a-view-versus-a-copy\n",
            "/usr/local/lib/python3.6/dist-packages/pandas/core/indexing.py:1734: SettingWithCopyWarning: \n",
            "A value is trying to be set on a copy of a slice from a DataFrame.\n",
            "Try using .loc[row_indexer,col_indexer] = value instead\n",
            "\n",
            "See the caveats in the documentation: https://pandas.pydata.org/pandas-docs/stable/user_guide/indexing.html#returning-a-view-versus-a-copy\n",
            "  isetter(loc, value[:, i].tolist())\n"
          ],
          "name": "stderr"
        }
      ]
    },
    {
      "cell_type": "markdown",
      "metadata": {
        "id": "UGTf0ePnx2RQ"
      },
      "source": [
        "# **5. Scaling features**"
      ]
    },
    {
      "cell_type": "code",
      "metadata": {
        "colab": {
          "base_uri": "https://localhost:8080/"
        },
        "id": "aNbctL6-x-qq",
        "outputId": "4b0df247-189e-41b5-cf80-bf0fc5cb94f6"
      },
      "source": [
        "scaler=StandardScaler()\r\n",
        "\r\n",
        "#Fit the transformer\r\n",
        "\r\n",
        "scaler.fit(X_train[numeric])\r\n",
        "\r\n",
        "#Transform Train and test data\r\n",
        "\r\n",
        "train_numerical_scaled=scaler.transform(X_train[numeric])\r\n",
        "test_numerical_scaled=scaler.transform(X_test[numeric])\r\n",
        "\r\n",
        "#Replace transform data in original X's data\r\n",
        "\r\n",
        "X_train[numeric]=train_numerical_scaled\r\n",
        "X_test[numeric]=test_numerical_scaled"
      ],
      "execution_count": 432,
      "outputs": [
        {
          "output_type": "stream",
          "text": [
            "/usr/local/lib/python3.6/dist-packages/ipykernel_launcher.py:15: SettingWithCopyWarning: \n",
            "A value is trying to be set on a copy of a slice from a DataFrame.\n",
            "Try using .loc[row_indexer,col_indexer] = value instead\n",
            "\n",
            "See the caveats in the documentation: https://pandas.pydata.org/pandas-docs/stable/user_guide/indexing.html#returning-a-view-versus-a-copy\n",
            "  from ipykernel import kernelapp as app\n",
            "/usr/local/lib/python3.6/dist-packages/pandas/core/indexing.py:1734: SettingWithCopyWarning: \n",
            "A value is trying to be set on a copy of a slice from a DataFrame.\n",
            "Try using .loc[row_indexer,col_indexer] = value instead\n",
            "\n",
            "See the caveats in the documentation: https://pandas.pydata.org/pandas-docs/stable/user_guide/indexing.html#returning-a-view-versus-a-copy\n",
            "  isetter(loc, value[:, i].tolist())\n"
          ],
          "name": "stderr"
        }
      ]
    },
    {
      "cell_type": "markdown",
      "metadata": {
        "id": "1ODC9B-cMc3_"
      },
      "source": [
        "#Export datasets"
      ]
    },
    {
      "cell_type": "code",
      "metadata": {
        "id": "fNb278c5Mkqc"
      },
      "source": [
        "X_train.to_csv('/content/drive/MyDrive/Colab Notebooks/BCG/X_train.csv',index=False)\r\n",
        "X_test.to_csv('/content/drive/MyDrive/Colab Notebooks/BCG/X_test.csv',index=False)\r\n",
        "y_train.to_csv('/content/drive/MyDrive/Colab Notebooks/BCG/y_train.csv',index=False)\r\n",
        "y_test.to_csv('/content/drive/MyDrive/Colab Notebooks/BCG/y_test.csv',index=False)"
      ],
      "execution_count": 433,
      "outputs": []
    }
  ]
}